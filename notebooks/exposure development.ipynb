{
 "cells": [
  {
   "cell_type": "markdown",
   "metadata": {},
   "source": [
    "# Convert and test Matthew's python exposure code\n"
   ]
  },
  {
   "cell_type": "code",
   "execution_count": 28,
   "metadata": {},
   "outputs": [
    {
     "data": {
      "text/plain": [
       "<module 'exposure' from '/nfs/farm/g/glast/u/burnett/analysis/agn_timing/code/exposure.py'>"
      ]
     },
     "execution_count": 28,
     "metadata": {},
     "output_type": "execute_result"
    }
   ],
   "source": [
    "%matplotlib inline\n",
    "from importlib import reload\n",
    "import glob\n",
    "from astropy.io import fits\n",
    "from astropy.coordinates import SkyCoord\n",
    "import exposure as exp; reload(exp)"
   ]
  },
  {
   "cell_type": "markdown",
   "metadata": {},
   "source": [
    "### Locate files used for catalog\n",
    "Note that the data files are not FT1 but binned: code here uses only for GTI data"
   ]
  },
  {
   "cell_type": "code",
   "execution_count": 29,
   "metadata": {},
   "outputs": [],
   "source": [
    "yearly_ft2files = sorted(glob.glob('/nfs/farm/g/glast/g/catalog/P8_P305/ft2_20*.fits'))\n",
    "yearly_datafiles= sorted(glob.glob(os.path.expandvars('$FERMI/data/P8_P305/yearly/*.fits')))\n",
    "# select the first 5 months\n",
    "ft2= yearly_ft2files[0]\n",
    "ft1= yearly_datafiles[0]"
   ]
  },
  {
   "cell_type": "code",
   "execution_count": 30,
   "metadata": {},
   "outputs": [
    {
     "data": {
      "text/plain": [
       "<SkyCoord (ICRS): (ra, dec) in deg\n",
       "    (128.83606354, -45.17643181)>"
      ]
     },
     "execution_count": 30,
     "metadata": {},
     "output_type": "execute_result"
    }
   ],
   "source": [
    "sc=SkyCoord.from_name('Vela pulsar') ;sc#\"PSR J1012+5307\")"
   ]
  },
  {
   "cell_type": "markdown",
   "metadata": {},
   "source": [
    "### Try Matthew's suggested procedure"
   ]
  },
  {
   "cell_type": "code",
   "execution_count": 31,
   "metadata": {},
   "outputs": [
    {
     "name": "stdout",
     "output_type": "stream",
     "text": [
      "Processing GTI...\n",
      "Processed 5497 intervals with 25801634 s live time\n",
      "Loading FT2 files /nfs/farm/g/glast/g/catalog/P8_P305/ft2_2008.fits\n",
      "Processing the FT2 file (calculating overlap with GTI)...\n"
     ]
    }
   ],
   "source": [
    "lt = exp.Livetime(ft2, ft1, )"
   ]
  },
  {
   "cell_type": "code",
   "execution_count": 32,
   "metadata": {},
   "outputs": [
    {
     "name": "stdout",
     "output_type": "stream",
     "text": [
      "time range: 239562718 to 252478259\n"
     ]
    }
   ],
   "source": [
    "edf = lt.get_exposure(sc)"
   ]
  },
  {
   "cell_type": "code",
   "execution_count": 35,
   "metadata": {},
   "outputs": [
    {
     "data": {
      "text/html": [
       "<div>\n",
       "<style scoped>\n",
       "    .dataframe tbody tr th:only-of-type {\n",
       "        vertical-align: middle;\n",
       "    }\n",
       "\n",
       "    .dataframe tbody tr th {\n",
       "        vertical-align: top;\n",
       "    }\n",
       "\n",
       "    .dataframe thead th {\n",
       "        text-align: right;\n",
       "    }\n",
       "</style>\n",
       "<table border=\"1\" class=\"dataframe\">\n",
       "  <thead>\n",
       "    <tr style=\"text-align: right;\">\n",
       "      <th></th>\n",
       "      <th>tstart</th>\n",
       "      <th>tstop</th>\n",
       "      <th>exposure</th>\n",
       "    </tr>\n",
       "  </thead>\n",
       "  <tbody>\n",
       "    <tr>\n",
       "      <td>0</td>\n",
       "      <td>239562717.6</td>\n",
       "      <td>239562747.6</td>\n",
       "      <td>35490.317508</td>\n",
       "    </tr>\n",
       "    <tr>\n",
       "      <td>1</td>\n",
       "      <td>239562747.6</td>\n",
       "      <td>239562777.6</td>\n",
       "      <td>39597.037695</td>\n",
       "    </tr>\n",
       "    <tr>\n",
       "      <td>2</td>\n",
       "      <td>239562777.6</td>\n",
       "      <td>239562807.6</td>\n",
       "      <td>43763.110024</td>\n",
       "    </tr>\n",
       "    <tr>\n",
       "      <td>3</td>\n",
       "      <td>239562807.6</td>\n",
       "      <td>239562837.6</td>\n",
       "      <td>48119.185799</td>\n",
       "    </tr>\n",
       "    <tr>\n",
       "      <td>4</td>\n",
       "      <td>239562837.6</td>\n",
       "      <td>239562867.6</td>\n",
       "      <td>52462.928277</td>\n",
       "    </tr>\n",
       "  </tbody>\n",
       "</table>\n",
       "</div>"
      ],
      "text/plain": [
       "        tstart        tstop      exposure\n",
       "0  239562717.6  239562747.6  35490.317508\n",
       "1  239562747.6  239562777.6  39597.037695\n",
       "2  239562777.6  239562807.6  43763.110024\n",
       "3  239562807.6  239562837.6  48119.185799\n",
       "4  239562837.6  239562867.6  52462.928277"
      ]
     },
     "execution_count": 35,
     "metadata": {},
     "output_type": "execute_result"
    }
   ],
   "source": [
    "edf.head()"
   ]
  },
  {
   "cell_type": "markdown",
   "metadata": {},
   "source": [
    "### Get a data set and add livetime information"
   ]
  },
  {
   "cell_type": "code",
   "execution_count": 36,
   "metadata": {},
   "outputs": [
    {
     "name": "stdout",
     "output_type": "stream",
     "text": [
      "Time data: 3,950,346 events from 239562775 to 573335078\n",
      "Select 143,889 photons within live time range\n",
      "Exclude 1,058 photons not in GTI\n"
     ]
    },
    {
     "data": {
      "text/html": [
       "<div>\n",
       "<style scoped>\n",
       "    .dataframe tbody tr th:only-of-type {\n",
       "        vertical-align: middle;\n",
       "    }\n",
       "\n",
       "    .dataframe tbody tr th {\n",
       "        vertical-align: top;\n",
       "    }\n",
       "\n",
       "    .dataframe thead th {\n",
       "        text-align: right;\n",
       "    }\n",
       "</style>\n",
       "<table border=\"1\" class=\"dataframe\">\n",
       "  <thead>\n",
       "    <tr style=\"text-align: right;\">\n",
       "      <th></th>\n",
       "      <th>band</th>\n",
       "      <th>time</th>\n",
       "      <th>delta</th>\n",
       "      <th>lt_index</th>\n",
       "    </tr>\n",
       "  </thead>\n",
       "  <tbody>\n",
       "    <tr>\n",
       "      <td>0</td>\n",
       "      <td>0</td>\n",
       "      <td>2.395628e+08</td>\n",
       "      <td>0.387063</td>\n",
       "      <td>1</td>\n",
       "    </tr>\n",
       "    <tr>\n",
       "      <td>1</td>\n",
       "      <td>6</td>\n",
       "      <td>2.395628e+08</td>\n",
       "      <td>0.786543</td>\n",
       "      <td>3</td>\n",
       "    </tr>\n",
       "    <tr>\n",
       "      <td>2</td>\n",
       "      <td>11</td>\n",
       "      <td>2.395629e+08</td>\n",
       "      <td>0.580463</td>\n",
       "      <td>5</td>\n",
       "    </tr>\n",
       "    <tr>\n",
       "      <td>3</td>\n",
       "      <td>5</td>\n",
       "      <td>2.395629e+08</td>\n",
       "      <td>1.918532</td>\n",
       "      <td>6</td>\n",
       "    </tr>\n",
       "    <tr>\n",
       "      <td>4</td>\n",
       "      <td>8</td>\n",
       "      <td>2.395629e+08</td>\n",
       "      <td>0.336302</td>\n",
       "      <td>6</td>\n",
       "    </tr>\n",
       "  </tbody>\n",
       "</table>\n",
       "</div>"
      ],
      "text/plain": [
       "   band          time     delta  lt_index\n",
       "0     0  2.395628e+08  0.387063         1\n",
       "1     6  2.395628e+08  0.786543         3\n",
       "2    11  2.395629e+08  0.580463         5\n",
       "3     5  2.395629e+08  1.918532         6\n",
       "4     8  2.395629e+08  0.336302         6"
      ]
     },
     "execution_count": 36,
     "metadata": {},
     "output_type": "execute_result"
    }
   ],
   "source": [
    "dfall = pd.read_pickle('../data/vela.pkl')\n",
    "times = dfall.time.values\n",
    "tstart=edf.tstart.values\n",
    "tstop =edf.tstop.values\n",
    "print(f'Time data: {len(times):,} events from {times[0]:.0f} to {times[-1]:.0f}')\n",
    "# find range comvered by current GTI and make subset DataFrame\n",
    "imin,imax = np.searchsorted(times, [tstart[0],tstop[-1]]);\n",
    "df = dfall.iloc[imin:imax].copy(); len(df)\n",
    "print(f'Select {len(df):,} photons within live time range')\n",
    "\n",
    "# get associated live time index for each photon\n",
    "lt_index = np.searchsorted(tstop, df.time) # before which stop\n",
    "df.loc[:,'lt_index']=lt_index\n",
    "# make sure past start\n",
    "tdiff = df.time - tstart[df.lt_index]\n",
    "in_gti = tdiff.values>=0\n",
    "\n",
    "print(f'... but exclude {sum(~in_gti):,} photons not in GTI')\n",
    "df=df[in_gti]\n",
    "df.head()"
   ]
  },
  {
   "cell_type": "code",
   "execution_count": 37,
   "metadata": {},
   "outputs": [
    {
     "data": {
      "image/png": "[encoded data removed]",
      "text/plain": [
       "<Figure size 432x288 with 1 Axes>"
      ]
     },
     "metadata": {
      "needs_background": "light"
     },
     "output_type": "display_data"
    }
   ],
   "source": [
    "plt.hist(tdiff.clip(-10, 40), np.linspace(-10,40), histtype='step');"
   ]
  },
  {
   "cell_type": "code",
   "execution_count": 39,
   "metadata": {},
   "outputs": [
    {
     "data": {
      "image/png": "[encoded data removed]",
      "text/plain": [
       "<Figure size 432x288 with 1 Axes>"
      ]
     },
     "metadata": {
      "needs_background": "light"
     },
     "output_type": "display_data"
    }
   ],
   "source": [
    "# check that LT intervals found have sensible livetime\n",
    "plt.hist(edf.exposure[lt_index], bins=100, histtype='step');"
   ]
  }
 ],
 "metadata": {
  "kernelspec": {
   "display_name": "Python 3",
   "language": "python",
   "name": "python3"
  },
  "language_info": {
   "codemirror_mode": {
    "name": "ipython",
    "version": 3
   },
   "file_extension": ".py",
   "mimetype": "text/x-python",
   "name": "python",
   "nbconvert_exporter": "python",
   "pygments_lexer": "ipython3",
   "version": "3.7.3"
  }
 },
 "nbformat": 4,
 "nbformat_minor": 4
}
