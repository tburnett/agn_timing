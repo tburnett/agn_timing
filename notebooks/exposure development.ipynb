{
 "cells": [
  {
   "cell_type": "markdown",
   "metadata": {},
   "source": [
    "# Convert and test Matthew's python exposure code\n"
   ]
  },
  {
   "cell_type": "code",
   "execution_count": 1,
   "metadata": {},
   "outputs": [
    {
     "data": {
      "text/plain": [
       "<module 'exposure' from '/nfs/farm/g/glast/u/burnett/analysis/agn_timing/code/exposure.py'>"
      ]
     },
     "execution_count": 1,
     "metadata": {},
     "output_type": "execute_result"
    }
   ],
   "source": [
    "%matplotlib inline\n",
    "from importlib import reload\n",
    "import glob\n",
    "from astropy.io import fits\n",
    "import exposure as exp; reload(exp)"
   ]
  },
  {
   "cell_type": "markdown",
   "metadata": {},
   "source": [
    "### Locate files used for catalog\n",
    "Note that the data files are not FT1 but binned: code here uses only for GTI data"
   ]
  },
  {
   "cell_type": "code",
   "execution_count": 2,
   "metadata": {},
   "outputs": [],
   "source": [
    "os.environ['FERMI']='/nfs/farm/g/glast/g/catalog/pointlike/fermi'\n",
    "\n",
    "yearly_ft2files = sorted(glob.glob('/nfs/farm/g/glast/g/catalog/P8_P305/ft2_20*.fits'))\n",
    "yearly_datafiles= sorted(glob.glob(os.path.expandvars('$FERMI/data/P8_P305/yearly/*.fits')))\n",
    "ft2= yearly_ft2files[0]\n",
    "ft1= yearly_datafiles[0]"
   ]
  },
  {
   "cell_type": "markdown",
   "metadata": {},
   "source": [
    "### Create an Exposure object wtih the first year"
   ]
  },
  {
   "cell_type": "code",
   "execution_count": 3,
   "metadata": {},
   "outputs": [
    {
     "name": "stdout",
     "output_type": "stream",
     "text": [
      "Effective area setep {}\n",
      "Processing GTI...\n",
      "Processed 5497 intervals with 25801634 s live time\n",
      "Loading FT2 files /nfs/farm/g/glast/g/catalog/P8_P305/ft2_2008.fits\n",
      "Processing the FT2 file (calculating overlap with GTI)...\n"
     ]
    }
   ],
   "source": [
    "ef = exp.Exposure(ft2, ft1)"
   ]
  },
  {
   "cell_type": "code",
   "execution_count": 4,
   "metadata": {},
   "outputs": [
    {
     "name": "stdout",
     "output_type": "stream",
     "text": [
      "Eff call: ((array([ 100., 1000.]), 0.2125))\n",
      "Eff call: ((array([ 100., 1000.]), 0.2375))\n",
      "Eff call: ((array([ 100., 1000.]), 0.2625))\n",
      "Eff call: ((array([ 100., 1000.]), 0.28750002))\n",
      "Eff call: ((array([ 100., 1000.]), 0.3125))\n",
      "Eff call: ((array([ 100., 1000.]), 0.33749998))\n",
      "Eff call: ((array([ 100., 1000.]), 0.3625))\n",
      "Eff call: ((array([ 100., 1000.]), 0.3875))\n",
      "Eff call: ((array([ 100., 1000.]), 0.41250002))\n",
      "Eff call: ((array([ 100., 1000.]), 0.4375))\n",
      "Eff call: ((array([ 100., 1000.]), 0.46249998))\n",
      "Eff call: ((array([ 100., 1000.]), 0.4875))\n",
      "Eff call: ((array([ 100., 1000.]), 0.5125))\n",
      "Eff call: ((array([ 100., 1000.]), 0.5375))\n",
      "Eff call: ((array([ 100., 1000.]), 0.5625))\n",
      "Eff call: ((array([ 100., 1000.]), 0.5875))\n",
      "Eff call: ((array([ 100., 1000.]), 0.6125))\n",
      "Eff call: ((array([ 100., 1000.]), 0.6375))\n",
      "Eff call: ((array([ 100., 1000.]), 0.6625))\n",
      "Eff call: ((array([ 100., 1000.]), 0.6875))\n",
      "Eff call: ((array([ 100., 1000.]), 0.7125))\n",
      "Eff call: ((array([ 100., 1000.]), 0.7375))\n",
      "Eff call: ((array([ 100., 1000.]), 0.7625))\n",
      "Eff call: ((array([ 100., 1000.]), 0.7875))\n",
      "Eff call: ((array([ 100., 1000.]), 0.8125))\n",
      "Eff call: ((array([ 100., 1000.]), 0.8375))\n",
      "Eff call: ((array([ 100., 1000.]), 0.8625))\n",
      "Eff call: ((array([ 100., 1000.]), 0.8875))\n",
      "Eff call: ((array([ 100., 1000.]), 0.9125))\n",
      "Eff call: ((array([ 100., 1000.]), 0.9375))\n",
      "Eff call: ((array([ 100., 1000.]), 0.9625))\n",
      "Eff call: ((array([ 100., 1000.]), 0.9875))\n"
     ]
    },
    {
     "data": {
      "text/plain": [
       "array([[2.95318287e+09, 9.05983367e+09],\n",
       "       [2.34436485e+09, 7.96316743e+09]])"
      ]
     },
     "execution_count": 4,
     "metadata": {},
     "output_type": "execute_result"
    }
   ],
   "source": [
    "ef((0,0), [100,1000.],)"
   ]
  }
 ],
 "metadata": {
  "kernelspec": {
   "display_name": "Python 3",
   "language": "python",
   "name": "python3"
  },
  "language_info": {
   "codemirror_mode": {
    "name": "ipython",
    "version": 3
   },
   "file_extension": ".py",
   "mimetype": "text/x-python",
   "name": "python",
   "nbconvert_exporter": "python",
   "pygments_lexer": "ipython3",
   "version": "3.7.3"
  }
 },
 "nbformat": 4,
 "nbformat_minor": 4
}
