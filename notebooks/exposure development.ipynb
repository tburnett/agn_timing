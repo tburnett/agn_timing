{
 "cells": [
  {
   "cell_type": "markdown",
   "metadata": {},
   "source": [
    "# Convert and test Matthew's python exposure code"
   ]
  },
  {
   "cell_type": "code",
   "execution_count": 35,
   "metadata": {},
   "outputs": [
    {
     "data": {
      "text/plain": [
       "<module 'exposure' from '/nfs/farm/g/glast/u/burnett/analysis/agn_timing/code/exposure.py'>"
      ]
     },
     "execution_count": 35,
     "metadata": {},
     "output_type": "execute_result"
    }
   ],
   "source": [
    "%matplotlib inline\n",
    "from importlib import reload\n",
    "import glob\n",
    "from astropy.io import fits\n",
    "import exposure as exp; reload(exp)"
   ]
  },
  {
   "cell_type": "code",
   "execution_count": 36,
   "metadata": {},
   "outputs": [],
   "source": [
    "os.environ['FERMI']='/nfs/farm/g/glast/g/catalog/pointlike/fermi'\n",
    "\n",
    "yearly_ft2files = sorted(glob.glob('/nfs/farm/g/glast/g/catalog/P8_P305/ft2_20*.fits'))\n",
    "yearly_datafiles= sorted(glob.glob(os.path.expandvars('$FERMI/data/P8_P305/yearly/*.fits')))\n",
    "ft2= yearly_ft2files[0]\n",
    "ft1= yearly_datafiles[0]"
   ]
  },
  {
   "cell_type": "code",
   "execution_count": 37,
   "metadata": {},
   "outputs": [
    {
     "name": "stdout",
     "output_type": "stream",
     "text": [
      "Effective area setep {}\n",
      "Processing GTI...\n",
      "Processed 5497 intervals with 25801634 s live time\n",
      "Loading FT2 files /nfs/farm/g/glast/g/catalog/P8_P305/ft2_2008.fits\n",
      "Processing the FT2 file (calculating overlap with GTI)...\n"
     ]
    }
   ],
   "source": [
    "ef = exp.Exposure(ft2, ft1)"
   ]
  },
  {
   "cell_type": "code",
   "execution_count": 38,
   "metadata": {},
   "outputs": [
    {
     "name": "stdout",
     "output_type": "stream",
     "text": [
      "Eff call: ((array([ 100., 1000.]), 0.2125))\n",
      "Eff call: ((array([ 100., 1000.]), 0.2375))\n",
      "Eff call: ((array([ 100., 1000.]), 0.2625))\n",
      "Eff call: ((array([ 100., 1000.]), 0.28750002))\n",
      "Eff call: ((array([ 100., 1000.]), 0.3125))\n",
      "Eff call: ((array([ 100., 1000.]), 0.33749998))\n",
      "Eff call: ((array([ 100., 1000.]), 0.3625))\n",
      "Eff call: ((array([ 100., 1000.]), 0.3875))\n",
      "Eff call: ((array([ 100., 1000.]), 0.41250002))\n",
      "Eff call: ((array([ 100., 1000.]), 0.4375))\n",
      "Eff call: ((array([ 100., 1000.]), 0.46249998))\n",
      "Eff call: ((array([ 100., 1000.]), 0.4875))\n",
      "Eff call: ((array([ 100., 1000.]), 0.5125))\n",
      "Eff call: ((array([ 100., 1000.]), 0.5375))\n",
      "Eff call: ((array([ 100., 1000.]), 0.5625))\n",
      "Eff call: ((array([ 100., 1000.]), 0.5875))\n",
      "Eff call: ((array([ 100., 1000.]), 0.6125))\n",
      "Eff call: ((array([ 100., 1000.]), 0.6375))\n",
      "Eff call: ((array([ 100., 1000.]), 0.6625))\n",
      "Eff call: ((array([ 100., 1000.]), 0.6875))\n",
      "Eff call: ((array([ 100., 1000.]), 0.7125))\n",
      "Eff call: ((array([ 100., 1000.]), 0.7375))\n",
      "Eff call: ((array([ 100., 1000.]), 0.7625))\n",
      "Eff call: ((array([ 100., 1000.]), 0.7875))\n",
      "Eff call: ((array([ 100., 1000.]), 0.8125))\n",
      "Eff call: ((array([ 100., 1000.]), 0.8375))\n",
      "Eff call: ((array([ 100., 1000.]), 0.8625))\n",
      "Eff call: ((array([ 100., 1000.]), 0.8875))\n",
      "Eff call: ((array([ 100., 1000.]), 0.9125))\n",
      "Eff call: ((array([ 100., 1000.]), 0.9375))\n",
      "Eff call: ((array([ 100., 1000.]), 0.9625))\n",
      "Eff call: ((array([ 100., 1000.]), 0.9875))\n"
     ]
    },
    {
     "data": {
      "text/plain": [
       "array([[2.95318287e+09, 9.05983367e+09],\n",
       "       [2.34436485e+09, 7.96316743e+09]])"
      ]
     },
     "execution_count": 38,
     "metadata": {},
     "output_type": "execute_result"
    }
   ],
   "source": [
    "ef((0,0), [100,1000.],)"
   ]
  },
  {
   "cell_type": "code",
   "execution_count": 18,
   "metadata": {},
   "outputs": [
    {
     "name": "stdout",
     "output_type": "stream",
     "text": [
      "Filename: /afs/slac/g/glast/groups/canda/irfs/p8_merit/P8R3_V2/CALDB/data/glast/lat/bcf/ea/aeff_P8R3_SOURCE_V2_FB.fits\n",
      "No.    Name      Ver    Type      Cards   Dimensions   Format\n",
      "  0  PRIMARY       1 PrimaryHDU      10   ()      \n",
      "  1  EFFECTIVE AREA_FRONT    1 BinTableHDU     58   1R x 5C   [74E, 74E, 32E, 32E, 2368E]   \n",
      "  2  PHI_DEPENDENCE_FRONT    1 BinTableHDU     61   1R x 6C   [23E, 23E, 8E, 8E, 184E, 184E]   \n",
      "  3  EFFICIENCY_PARAMS_FRONT    1 BinTableHDU     36   2R x 1C   [6E]   \n",
      "  4  EFFECTIVE AREA_BACK    1 BinTableHDU     58   1R x 5C   [74E, 74E, 32E, 32E, 2368E]   \n",
      "  5  PHI_DEPENDENCE_BACK    1 BinTableHDU     61   1R x 6C   [23E, 23E, 8E, 8E, 184E, 184E]   \n",
      "  6  EFFICIENCY_PARAMS_BACK    1 BinTableHDU     36   2R x 1C   [6E]   \n"
     ]
    }
   ],
   "source": [
    "aeff_file= glob.glob('/afs/slac/g/glast/groups/canda/irfs/p8_merit/P8R3_V2/CALDB/data/glast/lat/bcf/ea/aeff*SOURCE_*FB.fits')[-1]\n",
    "x = aeff_data=fits.open(aeff_file)\n",
    "x.info()"
   ]
  },
  {
   "cell_type": "code",
   "execution_count": 17,
   "metadata": {},
   "outputs": [
    {
     "data": {
      "text/plain": [
       "('/afs/slac/g/glast/groups/canda/irfs/p8_merit/P8R3_V2/CALDB/data/glast/lat/bcf/ea/aeff_P8R3_SOURCE_V2_FB.fits',\n",
       " ColDefs(\n",
       "     name = 'ENERG_LO'; format = '74E'; unit = 'MeV'\n",
       "     name = 'ENERG_HI'; format = '74E'; unit = 'MeV'\n",
       "     name = 'CTHETA_LO'; format = '32E'\n",
       "     name = 'CTHETA_HI'; format = '32E'\n",
       "     name = 'EFFAREA'; format = '2368E'; unit = 'm2'; dim = '(74, 32)'\n",
       " ))"
      ]
     },
     "execution_count": 17,
     "metadata": {},
     "output_type": "execute_result"
    }
   ],
   "source": [
    "[1].data\n",
    "aeff_file,aeff_data.columns"
   ]
  },
  {
   "cell_type": "code",
   "execution_count": 13,
   "metadata": {},
   "outputs": [
    {
     "name": "stdout",
     "output_type": "stream",
     "text": [
      "/afs/slac/g/glast/groups/canda/irfs/p8_merit/P8R3_V2/CALDB/data/glast/lat/bcf/ea/aeff_P8R3_SOURCE_V2_FB.fits\n"
     ]
    }
   ],
   "source": [
    "ls /afs/slac/g/glast/groups/canda/irfs/p8_merit/P8R3_V2/CALDB/data/glast/lat/bcf/ea/aeff*SOURCE_*FB.fits"
   ]
  },
  {
   "cell_type": "code",
   "execution_count": null,
   "metadata": {},
   "outputs": [],
   "source": []
  }
 ],
 "metadata": {
  "kernelspec": {
   "display_name": "Python 3",
   "language": "python",
   "name": "python3"
  },
  "language_info": {
   "codemirror_mode": {
    "name": "ipython",
    "version": 3
   },
   "file_extension": ".py",
   "mimetype": "text/x-python",
   "name": "python",
   "nbconvert_exporter": "python",
   "pygments_lexer": "ipython3",
   "version": "3.7.3"
  }
 },
 "nbformat": 4,
 "nbformat_minor": 4
}
