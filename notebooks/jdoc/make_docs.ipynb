{
 "cells": [
  {
   "cell_type": "code",
   "execution_count": 1,
   "metadata": {},
   "outputs": [
    {
     "data": {
      "text/plain": [
       " Modules                   Classes\n",
       "  src.\n",
       "    systematics_dev         ['Development']\n",
       "    photon_data             ['GammaData', 'DataDescription', 'DataFiles']\n",
       "    likelihood_reps         ['LikelihoodReps']\n",
       "    poisson_study           ['PoissonDoc']\n",
       "    systematics_study       ['SystematicAnalysis']\n",
       "\n",
       "docspath: /home/burnett/work/docs"
      ]
     },
     "execution_count": 1,
     "metadata": {},
     "output_type": "execute_result"
    }
   ],
   "source": [
    "sys.path[0]='/home/burnett/work/lat-timing'\n",
    "from jupydoc import DocMan\n",
    "dm = DocMan('src'); dm"
   ]
  },
  {
   "cell_type": "code",
   "execution_count": 3,
   "metadata": {},
   "outputs": [
    {
     "name": "stdout",
     "output_type": "stream",
     "text": [
      "Not displaying:   0.0 title_page\n",
      "Not displaying:   1.0 basic_files\n",
      "Not displaying:   2.0 source_selection\n"
     ]
    },
    {
     "data": {
      "text/markdown": [
       "<a id=\"example\"></a>\n",
       "<h2>3. Example: Geminga</h2>\n",
       "\n",
       "This shows the processing for the source Geminga. We find its position using astropy, the code\n",
       "```\n",
       "gal = SkyCoord.from_name(self.example_source).galactic\n",
       "l,b = (gal.l.value, gal.b.value)\n",
       "```\n",
       "which results in $l,b$ = 195.13, 4.27\n",
       "\n",
       "We use `pointlike` to generate a file that allows us to assign a weight to each photon, based on\n",
       "its energy and band. For processing, this was copied to the folder `/tmp/weight_files`. For Geminga we have\n",
       "<p style=\"margin-left: 5%\"><pre>-rw-r--r-- 1 burnett burnett 34591 Jul 23 13:03 /tmp/weight_files/Geminga_weights.pkl<br></pre></p>\n",
       "\n",
       "Then we use main.Main, generating the following:\n",
       "\n",
       "<p style=\"margin-left: 5%\"><pre><br>Source \"Geminga\" at: (l,b)=(195.134,4.266)<br>Read /home/burnett/work/lat-data/tstart.pkl with tstart values<br>Loading data from 132 months from Arrow dataset /home/burnett/work/lat-data/photon_dataset<br><br>\tSelected 1313726 photons within 5 deg of  (195.13,4.27)<br>\tEnergies: 100.0-1000000 MeV<br>\tDates:    2008-08-04 15:46 - 2019-08-03 01:17<br>\tMJD  :    54682.7          - 58698.1         <br>Default binning: 4015 intervals of 1 days, in range (54683.0, 58698.0)<br>Adding weights from file /tmp/weight_files/Geminga_weights.pkl<br>Found weights for PSR J0633+1746 at (195.14, 4.27)<br>\t0 / 1300212 photon pixels are outside weight region<br>\t232953 weights set to NaN<br>Creating weight model<br></pre></p>\n",
       "<p style=\"text-align: right;\"><a href=\"#top\">top</a></p>\n",
       "\n"
      ],
      "text/plain": [
       "<jupydoc.helpers.doc_formatter.<locals>.MimeBundleObject at 0x7f752883b050>"
      ]
     },
     "metadata": {},
     "output_type": "display_data"
    },
    {
     "name": "stdout",
     "output_type": "stream",
     "text": [
      "\n",
      "------\n",
      "Document saved to \"/home/burnett/work/docs/DataFiles\"\n"
     ]
    }
   ],
   "source": [
    "self=dm('DataFiles')\n",
    "\n",
    "self('example')"
   ]
  },
  {
   "cell_type": "code",
   "execution_count": null,
   "metadata": {},
   "outputs": [],
   "source": []
  }
 ],
 "metadata": {
  "kernelspec": {
   "display_name": "Python 3",
   "language": "python",
   "name": "python3"
  },
  "language_info": {
   "codemirror_mode": {
    "name": "ipython",
    "version": 3
   },
   "file_extension": ".py",
   "mimetype": "text/x-python",
   "name": "python",
   "nbconvert_exporter": "python",
   "pygments_lexer": "ipython3",
   "version": "3.7.6"
  }
 },
 "nbformat": 4,
 "nbformat_minor": 4
}
