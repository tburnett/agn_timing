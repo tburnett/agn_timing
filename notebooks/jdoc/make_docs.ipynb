{
 "cells": [
  {
   "cell_type": "code",
   "execution_count": 1,
   "metadata": {},
   "outputs": [
    {
     "data": {
      "text/plain": [
       " Modules                   Classes\n",
       "  src.\n",
       "    systematics_dev         ['Development']\n",
       "    photon_data             ['GammaData', 'DataDescription']\n",
       "    likelihood_reps         ['LikelihoodReps']\n",
       "    poisson_study           ['PoissonDoc']\n",
       "    systematics_study       ['SystematicAnalysis']\n",
       "\n",
       "docspath: /home/burnett/work/docs"
      ]
     },
     "execution_count": 1,
     "metadata": {},
     "output_type": "execute_result"
    }
   ],
   "source": [
    "sys.path[0]='/home/burnett/work/lat-timing'\n",
    "from jupydoc import DocMan\n",
    "dm = DocMan('src'); dm"
   ]
  },
  {
   "cell_type": "code",
   "execution_count": 12,
   "metadata": {},
   "outputs": [],
   "source": [
    "self=dm('GammaData.3C_279')\n",
    "#self = dm('DataDescription'); self"
   ]
  },
  {
   "cell_type": "code",
   "execution_count": 14,
   "metadata": {},
   "outputs": [
    {
     "name": "stdout",
     "output_type": "stream",
     "text": [
      "Not displaying:   0.0 title_page\n"
     ]
    },
    {
     "data": {
      "text/markdown": [
       "<a id=\"data_summary\"></a>\n",
       "<h2>1. Data reduction</h2>\n",
       "\n",
       "The data processing, from photon data to light curves, is described <a href=\"../DataDescription/index.html\">here</a>.   \n",
       "\n",
       "#### Specified source name: **3C_279**\n",
       "\n",
       "Source \"3C_279\" data  ok.\n",
       "Contents of the folder with source data `/home/burnett/work/lat-data/sources/3C_279`\n",
       "\n",
       "<p style=\"margin-left: 5%\"><pre>total 63244<br>-rw-r--r-- 1 burnett burnett   724648 Jul 18 17:52 _light_curve.pkl<br>-rw-r--r-- 1 burnett burnett   985501 Jul 18 17:52 light_curve.pkl<br>-rw-r--r-- 1 burnett burnett 63049112 Jul 18 17:53 time_data.pkl<br></pre></p>\n"
      ],
      "text/plain": [
       "<jupydoc.helpers.doc_formatter.<locals>.MimeBundleObject at 0x7f48b55d3c10>"
      ]
     },
     "metadata": {},
     "output_type": "display_data"
    },
    {
     "data": {
      "text/markdown": [
       "<h3 id=\"read_data\">1.1 Read in cone-selected data </h3>\n",
       "`TimeData` serialization found as dict in file <samp>/home/burnett/work/lat-data/sources/3C_279/time_data.pkl</samp>.\n"
      ],
      "text/plain": [
       "<jupydoc.helpers.doc_formatter.<locals>.MimeBundleObject at 0x7f48b29c9590>"
      ]
     },
     "metadata": {},
     "output_type": "display_data"
    },
    {
     "data": {
      "text/markdown": [
       "<h3 id=\"get_weights\">1.2 Weights </h3>\n",
       "This subsection summarizes data retrieved from tehe server rhel6-64.slac.stanford.edu for the pointlie skymodel P8_10years/uw9011.\n",
       "\n",
       "<p style=\"margin-left: 5%\"><pre>Processing model P8_10years/uw9011: retreiving data from rhel6-64.slac.stanford.edu<br>found SED: P88Y3243_sed_uw9011.jpg<br></pre></p>\n",
       "\n",
       "This SED shows the spectral model used to determine the weights.\n",
       "\n",
       "<div class=\"jupydoc_fig\"><figure> <img src=\"images/P88Y3243_sed_uw9011.jpg\"  width=150  alt=\"Image P88Y3243_sed_uw9011.jpg at images/P88Y3243_sed_uw9011.jpg\"> \n",
       "  <figcaption>SED for 3C_279</figcaption>\n",
       "</figure></div>\n",
       "\n",
       "\n",
       "And here is its fit summary.\n",
       "\n",
       "<details ><summary> source fit information </summary> <p style=\"margin-left: 5%\"><pre>ra                   194.046<br>dec                 -5.78639<br>roiname            HP12_0174<br>ts                    218489<br>aprob               0.999985<br>eflux100         4.16772e-10<br>modelname        LogParabola<br>freebits                   3<br>fitqual                27.03<br>e0                    547.08<br>flux             2.11761e-10<br>flux_unc         1.26507e-12<br>pindex               2.20764<br>pindex_unc        0.00441227<br>index2             0.0706522<br>index2_unc        0.00298197<br>cutoff                   NaN<br>cutoff_unc               NaN<br>eflux100_unc     2.62664e-12<br>locqual                    0<br>delta_ts           0.0218841<br>a                 0.00144066<br>b                 0.00142781<br>ang                  83.1011<br>flags                      0<br>jname           J1256.1-0547<br>Name: P88Y3243, dtype: object</pre></p> </details>\n"
      ],
      "text/plain": [
       "<jupydoc.helpers.doc_formatter.<locals>.MimeBundleObject at 0x7f48b58ff350>"
      ]
     },
     "metadata": {},
     "output_type": "display_data"
    },
    {
     "data": {
      "text/markdown": [
       "<h3 id=\"photon_data\">1.3 Photon data </h3>\n",
       "This is a list of every photon in a valid time range, with time in MJD, energy/event type indicated\n",
       "by the band, position on the sky by a pixel index, and the radius and weight as shown.\n",
       "<div>\n",
       "<style scoped>\n",
       "    .dataframe tbody tr th:only-of-type {\n",
       "        vertical-align: middle;\n",
       "    }\n",
       "\n",
       "    .dataframe tbody tr th {\n",
       "        vertical-align: top;\n",
       "    }\n",
       "\n",
       "    .dataframe thead th {\n",
       "        text-align: right;\n",
       "    }\n",
       "</style>\n",
       "<table border=\"1\" class=\"dataframe\">\n",
       "  <thead>\n",
       "    <tr style=\"text-align: right;\">\n",
       "      <th>band</th>\n",
       "      <th>time</th>\n",
       "      <th>pixel</th>\n",
       "      <th>radius</th>\n",
       "      <th>weight</th>\n",
       "    </tr>\n",
       "  </thead>\n",
       "  <tbody>\n",
       "    <tr>\n",
       "      <td>3</td>\n",
       "      <td>54682.662</td>\n",
       "      <td>4065010</td>\n",
       "      <td>3.186</td>\n",
       "      <td>0.590</td>\n",
       "    </tr>\n",
       "    <tr>\n",
       "      <td>5</td>\n",
       "      <td>54682.796</td>\n",
       "      <td>3976309</td>\n",
       "      <td>1.847</td>\n",
       "      <td>0.529</td>\n",
       "    </tr>\n",
       "    <tr>\n",
       "      <td>2</td>\n",
       "      <td>54682.798</td>\n",
       "      <td>3981291</td>\n",
       "      <td>3.056</td>\n",
       "      <td>0.376</td>\n",
       "    </tr>\n",
       "    <tr>\n",
       "      <td>...</td>\n",
       "      <td>...</td>\n",
       "      <td>...</td>\n",
       "      <td>...</td>\n",
       "      <td>...</td>\n",
       "    </tr>\n",
       "    <tr>\n",
       "      <td>8</td>\n",
       "      <td>58698.073</td>\n",
       "      <td>3979563</td>\n",
       "      <td>0.219</td>\n",
       "      <td>0.943</td>\n",
       "    </tr>\n",
       "    <tr>\n",
       "      <td>3</td>\n",
       "      <td>58698.073</td>\n",
       "      <td>3975538</td>\n",
       "      <td>2.837</td>\n",
       "      <td>0.614</td>\n",
       "    </tr>\n",
       "    <tr>\n",
       "      <td>9</td>\n",
       "      <td>58698.077</td>\n",
       "      <td>3972671</td>\n",
       "      <td>3.032</td>\n",
       "      <td>0.107</td>\n",
       "    </tr>\n",
       "  </tbody>\n",
       "</table>\n",
       "</div>\n",
       "\n",
       "<div class=\"jupydoc_fig\"><figure> <img src=\"figs/fig_01.png\" alt=\"Figure 1 at figs/fig_01.png\"> <figcaption>3C_279 data features</figcaption></figure></div>\n",
       "\n"
      ],
      "text/plain": [
       "<jupydoc.helpers.doc_formatter.<locals>.MimeBundleObject at 0x7f48b2b398d0>"
      ]
     },
     "metadata": {},
     "output_type": "display_data"
    },
    {
     "data": {
      "text/markdown": [
       "<h3 id=\"cell_data\">1.4 Cell Data </h3>\n",
       "Uses `TimedData.binned_weights()` to return a `BinnedWeights` object\n",
       "<p style=\"margin-left: 5%\"><pre><class 'lat_timing.binner.BinnedWeights'>:  <br>        4015 intervals from 54683.0 to 58698.0 for source 3C_279<br>        S 89086.66  B 122836.34 </pre></p>\n",
       "The `BinnedWeights` contains the cell data for default time bins:\n",
       "\n",
       "<div>\n",
       "<style scoped>\n",
       "    .dataframe tbody tr th:only-of-type {\n",
       "        vertical-align: middle;\n",
       "    }\n",
       "\n",
       "    .dataframe tbody tr th {\n",
       "        vertical-align: top;\n",
       "    }\n",
       "\n",
       "    .dataframe thead th {\n",
       "        text-align: right;\n",
       "    }\n",
       "</style>\n",
       "<table border=\"1\" class=\"dataframe\">\n",
       "  <thead>\n",
       "    <tr style=\"text-align: right;\">\n",
       "      <th>t</th>\n",
       "      <th>tw</th>\n",
       "      <th>fexp</th>\n",
       "      <th>n</th>\n",
       "      <th>w</th>\n",
       "      <th>S</th>\n",
       "      <th>B</th>\n",
       "    </tr>\n",
       "  </thead>\n",
       "  <tbody>\n",
       "    <tr>\n",
       "      <td>54683.500</td>\n",
       "      <td>1.000</td>\n",
       "      <td>0.859</td>\n",
       "      <td>25</td>\n",
       "      <td>[0.064962015, 0.8456794, 0.0, 0.4740412, 0.525...</td>\n",
       "      <td>19.070</td>\n",
       "      <td>26.294</td>\n",
       "    </tr>\n",
       "    <tr>\n",
       "      <td>54684.500</td>\n",
       "      <td>1.000</td>\n",
       "      <td>0.841</td>\n",
       "      <td>28</td>\n",
       "      <td>[0.0, 0.52226746, 0.18654893, 0.49898955, 0.22...</td>\n",
       "      <td>18.659</td>\n",
       "      <td>25.728</td>\n",
       "    </tr>\n",
       "    <tr>\n",
       "      <td>54685.500</td>\n",
       "      <td>1.000</td>\n",
       "      <td>0.853</td>\n",
       "      <td>35</td>\n",
       "      <td>[0.5599143, 0.30915558, 0.09137606, 0.16095082...</td>\n",
       "      <td>18.928</td>\n",
       "      <td>26.098</td>\n",
       "    </tr>\n",
       "    <tr>\n",
       "      <td>...</td>\n",
       "      <td>...</td>\n",
       "      <td>...</td>\n",
       "      <td>...</td>\n",
       "      <td>...</td>\n",
       "      <td>...</td>\n",
       "      <td>...</td>\n",
       "    </tr>\n",
       "    <tr>\n",
       "      <td>58695.500</td>\n",
       "      <td>1.000</td>\n",
       "      <td>1.379</td>\n",
       "      <td>72</td>\n",
       "      <td>[0.7079511, 0.9516777, 0.23017642, 0.9442954, ...</td>\n",
       "      <td>30.598</td>\n",
       "      <td>42.190</td>\n",
       "    </tr>\n",
       "    <tr>\n",
       "      <td>58696.500</td>\n",
       "      <td>1.000</td>\n",
       "      <td>0.723</td>\n",
       "      <td>39</td>\n",
       "      <td>[0.7548308, 0.0030191615, 0.015622494, 0.48682...</td>\n",
       "      <td>16.038</td>\n",
       "      <td>22.114</td>\n",
       "    </tr>\n",
       "    <tr>\n",
       "      <td>58697.500</td>\n",
       "      <td>1.000</td>\n",
       "      <td>0.000</td>\n",
       "      <td>0</td>\n",
       "      <td>[]</td>\n",
       "      <td>0.000</td>\n",
       "      <td>0.000</td>\n",
       "    </tr>\n",
       "  </tbody>\n",
       "</table>\n",
       "</div>\n"
      ],
      "text/plain": [
       "<jupydoc.helpers.doc_formatter.<locals>.MimeBundleObject at 0x7f48b5742f10>"
      ]
     },
     "metadata": {},
     "output_type": "display_data"
    },
    {
     "data": {
      "text/markdown": [
       "<h3 id=\"light_curve_data\">1.5 The 1-day Light Curve  </h3>\n",
       "A \"light curve\" is derived  from the cell data, after fitting each cell to the a poisson-like function.\n",
       "This is the contents of the `LightCurve` object with the poisson fitter. (This section caches the\n",
       "result of the fit in the file <samp>/home/burnett/work/lat-data/sources/3C_279/light_curve.pkl</samp>.)\n",
       "\n",
       "<p style=\"margin-left: 5%\"><pre>LightCurveX: source \"3C_279\" fit with 3845 cells</pre></p>\n",
       "<div>\n",
       "<style scoped>\n",
       "    .dataframe tbody tr th:only-of-type {\n",
       "        vertical-align: middle;\n",
       "    }\n",
       "\n",
       "    .dataframe tbody tr th {\n",
       "        vertical-align: top;\n",
       "    }\n",
       "\n",
       "    .dataframe thead th {\n",
       "        text-align: right;\n",
       "    }\n",
       "</style>\n",
       "<table border=\"1\" class=\"dataframe\">\n",
       "  <thead>\n",
       "    <tr style=\"text-align: right;\">\n",
       "      <th>t</th>\n",
       "      <th>tw</th>\n",
       "      <th>counts</th>\n",
       "      <th>fexp</th>\n",
       "      <th>flux</th>\n",
       "      <th>errors</th>\n",
       "      <th>limit</th>\n",
       "      <th>ts</th>\n",
       "      <th>poiss_pars</th>\n",
       "    </tr>\n",
       "  </thead>\n",
       "  <tbody>\n",
       "    <tr>\n",
       "      <td>54683.500</td>\n",
       "      <td>1.000</td>\n",
       "      <td>25.000</td>\n",
       "      <td>0.859</td>\n",
       "      <td>0.178</td>\n",
       "      <td>[0.113, 0.16]</td>\n",
       "      <td>0.532</td>\n",
       "      <td>3.404</td>\n",
       "      <td>[0.17763469, 14.317177, 0.084767275]</td>\n",
       "    </tr>\n",
       "    <tr>\n",
       "      <td>54684.500</td>\n",
       "      <td>1.000</td>\n",
       "      <td>28.000</td>\n",
       "      <td>0.841</td>\n",
       "      <td>0.228</td>\n",
       "      <td>[0.142, 0.189]</td>\n",
       "      <td>0.629</td>\n",
       "      <td>3.328</td>\n",
       "      <td>[0.22774544, 14.214499, 0.15708338]</td>\n",
       "    </tr>\n",
       "    <tr>\n",
       "      <td>54685.500</td>\n",
       "      <td>1.000</td>\n",
       "      <td>35.000</td>\n",
       "      <td>0.853</td>\n",
       "      <td>0.293</td>\n",
       "      <td>[0.185, 0.229]</td>\n",
       "      <td>0.753</td>\n",
       "      <td>2.975</td>\n",
       "      <td>[0.2931142, 15.069937, 0.34753898]</td>\n",
       "    </tr>\n",
       "    <tr>\n",
       "      <td>...</td>\n",
       "      <td>...</td>\n",
       "      <td>...</td>\n",
       "      <td>...</td>\n",
       "      <td>...</td>\n",
       "      <td>...</td>\n",
       "      <td>...</td>\n",
       "      <td>...</td>\n",
       "      <td>...</td>\n",
       "    </tr>\n",
       "    <tr>\n",
       "      <td>58694.500</td>\n",
       "      <td>1.000</td>\n",
       "      <td>70.000</td>\n",
       "      <td>1.153</td>\n",
       "      <td>0.953</td>\n",
       "      <td>[0.212, 0.242]</td>\n",
       "      <td>1.401</td>\n",
       "      <td>48.011</td>\n",
       "      <td>[0.95299256, 22.408768, 0.19853124]</td>\n",
       "    </tr>\n",
       "    <tr>\n",
       "      <td>58695.500</td>\n",
       "      <td>1.000</td>\n",
       "      <td>72.000</td>\n",
       "      <td>1.379</td>\n",
       "      <td>0.948</td>\n",
       "      <td>[0.194, 0.218]</td>\n",
       "      <td>1.348</td>\n",
       "      <td>54.966</td>\n",
       "      <td>[0.9483288, 27.566422, 0.22208044]</td>\n",
       "    </tr>\n",
       "    <tr>\n",
       "      <td>58696.500</td>\n",
       "      <td>1.000</td>\n",
       "      <td>39.000</td>\n",
       "      <td>0.723</td>\n",
       "      <td>0.845</td>\n",
       "      <td>[0.252, 0.3]</td>\n",
       "      <td>1.421</td>\n",
       "      <td>23.258</td>\n",
       "      <td>[0.8448997, 14.083141, 0.22390053]</td>\n",
       "    </tr>\n",
       "  </tbody>\n",
       "</table>\n",
       "</div>\n",
       "\n",
       "the columns are:         \n",
       "<ul>\n",
       "<li>$t, tw$: time and width in JD units; \n",
       "<li>_counts_: number of photons\n",
       "<li>_fext_: exposure factor, normaized to the average for a day\n",
       "<li>_flux_: fit value\n",
       "<li>_errors_: (lower, upper)\n",
       "<li>_limit_: 95% limit\n",
       "<li>_ts_: the TS value\n",
       "<li>poiss_pars: the three poisson-like parameters used to detemine flux, errors, limit, ts\n",
       "</ul>\n",
       "The `LightCurve` object has a display of the fits:\n",
       "\n",
       "<div class=\"jupydoc_fig\"><figure> <img src=\"figs/fig_02.png\" alt=\"Figure 2 at figs/fig_02.png\"> <figcaption></figcaption></figure></div>\n",
       "\n",
       "And a summary:\n",
       "<div class=\"jupydoc_fig\"><figure> <img src=\"figs/fig_03.png\" alt=\"Figure 3 at figs/fig_03.png\"> <figcaption></figcaption></figure></div>\n",
       "\n",
       "<p style=\"text-align: right;\"><a href=\"#top\">top</a></p>\n",
       "\n"
      ],
      "text/plain": [
       "<jupydoc.helpers.doc_formatter.<locals>.MimeBundleObject at 0x7f48b5119610>"
      ]
     },
     "metadata": {},
     "output_type": "display_data"
    },
    {
     "name": "stdout",
     "output_type": "stream",
     "text": [
      "\n",
      "------\n",
      "Document saved to \"/home/burnett/work/docs/GammaData.3C_279\"\n"
     ]
    }
   ],
   "source": [
    "self(1.0)"
   ]
  },
  {
   "cell_type": "code",
   "execution_count": 4,
   "metadata": {},
   "outputs": [
    {
     "data": {
      "text/plain": [
       "'/home/burnett/work/docs/DataDescription'"
      ]
     },
     "execution_count": 4,
     "metadata": {},
     "output_type": "execute_result"
    }
   ],
   "source": [
    "t = '/home/burnett/work/docs/DataDescription'; t"
   ]
  },
  {
   "cell_type": "code",
   "execution_count": 5,
   "metadata": {},
   "outputs": [
    {
     "name": "stdout",
     "output_type": "stream",
     "text": [
      "index.html\n"
     ]
    }
   ],
   "source": [
    "ls $t"
   ]
  },
  {
   "cell_type": "code",
   "execution_count": null,
   "metadata": {},
   "outputs": [],
   "source": []
  }
 ],
 "metadata": {
  "kernelspec": {
   "display_name": "Python 3",
   "language": "python",
   "name": "python3"
  },
  "language_info": {
   "codemirror_mode": {
    "name": "ipython",
    "version": 3
   },
   "file_extension": ".py",
   "mimetype": "text/x-python",
   "name": "python",
   "nbconvert_exporter": "python",
   "pygments_lexer": "ipython3",
   "version": "3.7.6"
  }
 },
 "nbformat": 4,
 "nbformat_minor": 4
}
