{
 "cells": [
  {
   "cell_type": "code",
   "execution_count": 3,
   "metadata": {},
   "outputs": [
    {
     "data": {
      "text/plain": [
       " Modules                   Classes\n",
       "  src.\n",
       "    systematics_dev         ['Development']\n",
       "    photon_data             ['GammaData', 'DataDescription', 'DataFiles']\n",
       "    likelihood_reps         ['LikelihoodReps']\n",
       "    poisson_study           ['PoissonDoc']\n",
       "    systematics_study       ['SystematicAnalysis']\n",
       "\n",
       "docspath: /home/burnett/work/docs"
      ]
     },
     "execution_count": 3,
     "metadata": {},
     "output_type": "execute_result"
    }
   ],
   "source": [
    "sys.path[0]='/home/burnett/work/lat-timing'\n",
    "from jupydoc import DocMan\n",
    "dm = DocMan('src'); dm"
   ]
  },
  {
   "cell_type": "code",
   "execution_count": 17,
   "metadata": {},
   "outputs": [
    {
     "name": "stdout",
     "output_type": "stream",
     "text": [
      "Not displaying:   0.0 title_page\n",
      "Not displaying:   1.0 basic_files\n",
      "Not displaying:   2.0 source_example\n"
     ]
    },
    {
     "data": {
      "text/markdown": [
       "<a id=\"result\"></a>\n",
       "<h2>3. Results</h2>\n",
       "\n",
       "The output file, `time_data.pkl`         \n",
       "can be read back in by `lat_timing.TimedDataX`, a subclass  of `TimedData`.\n",
       "\n",
       "It evaluates to \n",
       "<p style=\"margin-left: 5%\"><pre>Source \"Geminga\" at (l,b)= (195.13,4.27), radius= 5  <br>     Data class: TimedDataX  <br>     4016 cells, size 1 day(s), from 54683.0 to 58698.0 (11.0 years).  </pre></p>\n",
       "\n",
       "It has the photon data for the source, which can be converted to a DataFile with the `photon_data` attribute:\n",
       "<div>\n",
       "<style scoped>\n",
       "    .dataframe tbody tr th:only-of-type {\n",
       "        vertical-align: middle;\n",
       "    }\n",
       "\n",
       "    .dataframe tbody tr th {\n",
       "        vertical-align: top;\n",
       "    }\n",
       "\n",
       "    .dataframe thead th {\n",
       "        text-align: right;\n",
       "    }\n",
       "</style>\n",
       "<table border=\"1\" class=\"dataframe\">\n",
       "  <thead>\n",
       "    <tr style=\"text-align: right;\">\n",
       "      <th>band</th>\n",
       "      <th>time</th>\n",
       "      <th>pixel</th>\n",
       "      <th>radius</th>\n",
       "      <th>weight</th>\n",
       "    </tr>\n",
       "  </thead>\n",
       "  <tbody>\n",
       "    <tr>\n",
       "      <td>6</td>\n",
       "      <td>54682.657</td>\n",
       "      <td>6738278</td>\n",
       "      <td>0.698</td>\n",
       "      <td>0.783</td>\n",
       "    </tr>\n",
       "    <tr>\n",
       "      <td>3</td>\n",
       "      <td>54682.658</td>\n",
       "      <td>6761152</td>\n",
       "      <td>2.498</td>\n",
       "      <td>0.803</td>\n",
       "    </tr>\n",
       "    <tr>\n",
       "      <td>4</td>\n",
       "      <td>54682.659</td>\n",
       "      <td>6739138</td>\n",
       "      <td>0.290</td>\n",
       "      <td>0.956</td>\n",
       "    </tr>\n",
       "    <tr>\n",
       "      <td>...</td>\n",
       "      <td>...</td>\n",
       "      <td>...</td>\n",
       "      <td>...</td>\n",
       "      <td>...</td>\n",
       "    </tr>\n",
       "    <tr>\n",
       "      <td>4</td>\n",
       "      <td>58698.051</td>\n",
       "      <td>6739049</td>\n",
       "      <td>0.473</td>\n",
       "      <td>0.956</td>\n",
       "    </tr>\n",
       "    <tr>\n",
       "      <td>6</td>\n",
       "      <td>58698.053</td>\n",
       "      <td>6717152</td>\n",
       "      <td>0.993</td>\n",
       "      <td>0.797</td>\n",
       "    </tr>\n",
       "    <tr>\n",
       "      <td>9</td>\n",
       "      <td>58698.054</td>\n",
       "      <td>6738999</td>\n",
       "      <td>0.465</td>\n",
       "      <td>0.962</td>\n",
       "    </tr>\n",
       "  </tbody>\n",
       "</table>\n",
       "</div> \n",
       "Then it can provide a set of \"cells\" as input to the `LightCurve` class to produce a light curve:\n",
       "\n",
       "<div class=\"jupydoc_fig\"><figure> <img src=\"figs/fig_01.png\" alt=\"Figure 1 at figs/fig_01.png\"> <figcaption></figcaption></figure></div>\n",
       "\n",
       "<p style=\"text-align: right;\"><a href=\"#top\">top</a></p>\n",
       "\n"
      ],
      "text/plain": [
       "<jupydoc.helpers.doc_formatter.<locals>.MimeBundleObject at 0x7f49c9269950>"
      ]
     },
     "metadata": {},
     "output_type": "display_data"
    },
    {
     "name": "stdout",
     "output_type": "stream",
     "text": [
      "\n",
      "------\n",
      "Document saved to \"/home/burnett/work/docs/DataFiles\"\n"
     ]
    }
   ],
   "source": [
    "self=dm('DataFiles')\n",
    "\n",
    "self('result')"
   ]
  },
  {
   "cell_type": "code",
   "execution_count": 10,
   "metadata": {},
   "outputs": [
    {
     "data": {
      "text/plain": [
       "<lat_timing.main.Main at 0x7f49e8594ed0>"
      ]
     },
     "execution_count": 10,
     "metadata": {},
     "output_type": "execute_result"
    }
   ],
   "source": [
    "self.tdata"
   ]
  },
  {
   "cell_type": "code",
   "execution_count": 15,
   "metadata": {},
   "outputs": [],
   "source": [
    "outdir = os.path.expandvars(f'$HOME/work/lat-data/sources/{self.source_name}')\n",
    "os.makedirs(outdir, exist_ok=True)"
   ]
  },
  {
   "cell_type": "code",
   "execution_count": 16,
   "metadata": {},
   "outputs": [],
   "source": [
    "outfile = os.path.join(outdir, 'time_data.pkl')\n",
    "self.tdata.timedata.write(outfile)\n",
    "source_files = self.shell(f'ls -l {outfile}')"
   ]
  },
  {
   "cell_type": "code",
   "execution_count": 13,
   "metadata": {},
   "outputs": [
    {
     "data": {
      "text/markdown": [
       "<a id=\"result\"></a>\n",
       "<h2>3. Results</h2>\n",
       "\n",
       "The output file, `time_data.pkl`         \n",
       "can be read back in by `lat_timing.TimedDataX`, a subclass  of `TimedData`.\n",
       "\n",
       "It evaluates to \n",
       "<p style=\"margin-left: 5%\"><pre>Source \"Geminga\" at (l,b)= (195.13,4.27), radius= 5  <br>     Data class: TimedDataX  <br>     4016 cells, size 1 day(s), from 54683.0 to 58698.0 (11.0 years).  </pre></p>\n",
       "\n",
       "It has the photon data for the source, which can be converted to a DataFile with the `photon_data` attribute:\n",
       "<div>\n",
       "<style scoped>\n",
       "    .dataframe tbody tr th:only-of-type {\n",
       "        vertical-align: middle;\n",
       "    }\n",
       "\n",
       "    .dataframe tbody tr th {\n",
       "        vertical-align: top;\n",
       "    }\n",
       "\n",
       "    .dataframe thead th {\n",
       "        text-align: right;\n",
       "    }\n",
       "</style>\n",
       "<table border=\"1\" class=\"dataframe\">\n",
       "  <thead>\n",
       "    <tr style=\"text-align: right;\">\n",
       "      <th>band</th>\n",
       "      <th>time</th>\n",
       "      <th>pixel</th>\n",
       "      <th>radius</th>\n",
       "      <th>weight</th>\n",
       "    </tr>\n",
       "  </thead>\n",
       "  <tbody>\n",
       "    <tr>\n",
       "      <td>6</td>\n",
       "      <td>54682.657</td>\n",
       "      <td>6738278</td>\n",
       "      <td>0.698</td>\n",
       "      <td>0.783</td>\n",
       "    </tr>\n",
       "    <tr>\n",
       "      <td>3</td>\n",
       "      <td>54682.658</td>\n",
       "      <td>6761152</td>\n",
       "      <td>2.498</td>\n",
       "      <td>0.803</td>\n",
       "    </tr>\n",
       "    <tr>\n",
       "      <td>4</td>\n",
       "      <td>54682.659</td>\n",
       "      <td>6739138</td>\n",
       "      <td>0.290</td>\n",
       "      <td>0.956</td>\n",
       "    </tr>\n",
       "    <tr>\n",
       "      <td>...</td>\n",
       "      <td>...</td>\n",
       "      <td>...</td>\n",
       "      <td>...</td>\n",
       "      <td>...</td>\n",
       "    </tr>\n",
       "    <tr>\n",
       "      <td>4</td>\n",
       "      <td>58698.051</td>\n",
       "      <td>6739049</td>\n",
       "      <td>0.473</td>\n",
       "      <td>0.956</td>\n",
       "    </tr>\n",
       "    <tr>\n",
       "      <td>6</td>\n",
       "      <td>58698.053</td>\n",
       "      <td>6717152</td>\n",
       "      <td>0.993</td>\n",
       "      <td>0.797</td>\n",
       "    </tr>\n",
       "    <tr>\n",
       "      <td>9</td>\n",
       "      <td>58698.054</td>\n",
       "      <td>6738999</td>\n",
       "      <td>0.465</td>\n",
       "      <td>0.962</td>\n",
       "    </tr>\n",
       "  </tbody>\n",
       "</table>\n",
       "</div> \n",
       "Then it can provide a set of \"cells\" as input to the `LightCurve` class to produce a light curve:\n",
       "\n",
       "<div class=\"jupydoc_fig\"><figure> <img src=\"figs/fig_01.png\" alt=\"Figure 1 at figs/fig_01.png\"> <figcaption></figcaption></figure></div>\n",
       "\n",
       "<p style=\"text-align: right;\"><a href=\"#top\">top</a></p>\n",
       "\n"
      ],
      "text/plain": [
       "<jupydoc.helpers.doc_formatter.<locals>.MimeBundleObject at 0x7f49d8c75190>"
      ]
     },
     "metadata": {},
     "output_type": "display_data"
    }
   ],
   "source": [
    "self.result()"
   ]
  },
  {
   "cell_type": "code",
   "execution_count": 33,
   "metadata": {},
   "outputs": [
    {
     "data": {
      "text/plain": [
       "Source \"Geminga\" at (l,b)= (195.13,4.27), radius= 5  \n",
       "     Data class: TimedDataX  \n",
       "     4016 cells, size 1 day(s), from 54683.0 to 58698.0 (11.0 years).  "
      ]
     },
     "execution_count": 33,
     "metadata": {},
     "output_type": "execute_result"
    }
   ],
   "source": [
    "td = TimedDataX(os.path.expandvars(f'{self.root}/sources/Geminga/time_data.pkl'))\n",
    "td"
   ]
  },
  {
   "cell_type": "code",
   "execution_count": 34,
   "metadata": {},
   "outputs": [
    {
     "data": {
      "text/plain": [
       "'<p style=\"margin-left: 5%\"><pre>Source \"Geminga\" at (l,b)= (195.13,4.27), radius= 5  <br>     Data class: TimedDataX  <br>     4016 cells, size 1 day(s), from 54683.0 to 58698.0 (11.0 years).  </pre></p>'"
      ]
     },
     "execution_count": 34,
     "metadata": {},
     "output_type": "execute_result"
    }
   ],
   "source": [
    "self.monospace(td)"
   ]
  },
  {
   "cell_type": "code",
   "execution_count": 40,
   "metadata": {},
   "outputs": [
    {
     "data": {
      "text/plain": [
       "LightCurve: source \"Geminga\" fit with 3873 cells"
      ]
     },
     "execution_count": 40,
     "metadata": {},
     "output_type": "execute_result"
    }
   ],
   "source": [
    "from lat_timing import LightCurve\n",
    "LightCurve(td.binned_weights())"
   ]
  },
  {
   "cell_type": "code",
   "execution_count": 41,
   "metadata": {},
   "outputs": [],
   "source": [
    "lc=_"
   ]
  },
  {
   "cell_type": "code",
   "execution_count": 43,
   "metadata": {},
   "outputs": [
    {
     "data": {
      "image/png": "[encoded data removed]",
      "text/plain": [
       "<Figure size 864x288 with 1 Axes>"
      ]
     },
     "metadata": {
      "needs_background": "light"
     },
     "output_type": "display_data"
    }
   ],
   "source": [
    "fig, ax = plt.subplots(figsize = (12,4))\n",
    "lc.flux_plot(ax=ax);"
   ]
  },
  {
   "cell_type": "code",
   "execution_count": null,
   "metadata": {},
   "outputs": [],
   "source": []
  }
 ],
 "metadata": {
  "kernelspec": {
   "display_name": "Python 3",
   "language": "python",
   "name": "python3"
  },
  "language_info": {
   "codemirror_mode": {
    "name": "ipython",
    "version": 3
   },
   "file_extension": ".py",
   "mimetype": "text/x-python",
   "name": "python",
   "nbconvert_exporter": "python",
   "pygments_lexer": "ipython3",
   "version": "3.7.6"
  }
 },
 "nbformat": 4,
 "nbformat_minor": 4
}
