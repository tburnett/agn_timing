{
 "cells": [
  {
   "cell_type": "code",
   "execution_count": 1,
   "metadata": {},
   "outputs": [
    {
     "data": {
      "text/plain": [
       " Modules                   Classes\n",
       "  src.\n",
       "    systematics_dev         ['Development']\n",
       "    photon_data             ['GammaData', 'DataDescription']\n",
       "    likelihood_reps         ['LikelihoodReps']\n",
       "    poisson_study           ['PoissonDoc']\n",
       "    systematics_study       ['SystematicAnalysis']\n",
       "\n",
       "docspath: /home/burnett/work/docs"
      ]
     },
     "execution_count": 1,
     "metadata": {},
     "output_type": "execute_result"
    }
   ],
   "source": [
    "sys.path[0]='/home/burnett/work/lat-timing'\n",
    "from jupydoc import DocMan\n",
    "dm = DocMan('src'); dm"
   ]
  },
  {
   "cell_type": "code",
   "execution_count": 2,
   "metadata": {},
   "outputs": [],
   "source": [
    "self=dm('GammaData.3C_454.3')\n",
    "#self = dm('DataDescription'); self"
   ]
  },
  {
   "cell_type": "code",
   "execution_count": 3,
   "metadata": {},
   "outputs": [
    {
     "data": {
      "text/markdown": [
       "<a id=\"title_page\"></a><a id=\"title_page\"> <h1>Photon data setup</h1> </a>\n",
       "<h2>Source 3C_454.3</h2>\n",
       "<p style=\"text-align: right;\">2020-07-20 08:21</p> \n",
       "\n",
       "\n",
       "\n"
      ],
      "text/plain": [
       "<jupydoc.helpers.doc_formatter.<locals>.MimeBundleObject at 0x7fad8ed494d0>"
      ]
     },
     "metadata": {},
     "output_type": "display_data"
    },
    {
     "name": "stderr",
     "output_type": "stream",
     "text": [
      "Source \"3C_454.3\" not found locally -- checking remote...\n",
      "*** Failed attempt to get remote files: FileNotFoundError(2, 'No such file')\n",
      "function 'data_summary' failure message: Source \"3C_454.3\" not found locally -- checking remote...\n"
     ]
    }
   ],
   "source": [
    "self('all')"
   ]
  },
  {
   "cell_type": "code",
   "execution_count": 4,
   "metadata": {},
   "outputs": [
    {
     "data": {
      "text/plain": [
       "'/home/burnett/work/docs/DataDescription'"
      ]
     },
     "execution_count": 4,
     "metadata": {},
     "output_type": "execute_result"
    }
   ],
   "source": [
    "t = '/home/burnett/work/docs/DataDescription'; t"
   ]
  },
  {
   "cell_type": "code",
   "execution_count": 4,
   "metadata": {},
   "outputs": [
    {
     "data": {
      "text/plain": [
       "False"
      ]
     },
     "execution_count": 4,
     "metadata": {},
     "output_type": "execute_result"
    }
   ],
   "source": [
    "filename = self.source_data_path+'/time_data.pkl'; os.path.isfile(filename)"
   ]
  },
  {
   "cell_type": "code",
   "execution_count": 5,
   "metadata": {},
   "outputs": [
    {
     "data": {
      "text/plain": [
       "'/nfs/farm/g/glast/g/catalog/pointlike/skymodels'"
      ]
     },
     "execution_count": 5,
     "metadata": {},
     "output_type": "execute_result"
    }
   ],
   "source": [
    "gp = self.generation_path; gp"
   ]
  },
  {
   "cell_type": "code",
   "execution_count": 6,
   "metadata": {},
   "outputs": [
    {
     "data": {
      "text/plain": [
       "['3C_279_weights.pkl',\n",
       " '504F-0961_weights.pkl',\n",
       " '504F-1164_weights.pkl',\n",
       " '504F-1916_weights.pkl',\n",
       " '504H-0058_weights.pkl',\n",
       " '504H-0261_weights.pkl',\n",
       " '504H-0309_weights.pkl',\n",
       " '504H-0316_weights.pkl',\n",
       " '504N-0010_weights.pkl',\n",
       " '504N-0717_weights.pkl',\n",
       " '504N-0748_weights.pkl',\n",
       " '504N-1076_weights.pkl',\n",
       " '504N-1324_weights.pkl',\n",
       " '504N-1409_weights.pkl',\n",
       " '504N-1637_weights.pkl',\n",
       " '504N-1663_weights.pkl',\n",
       " '504N-1714_weights.pkl',\n",
       " '504P-0573_weights.pkl',\n",
       " '504P-0614_weights.pkl',\n",
       " '504P-0777_weights.pkl',\n",
       " '504P-0910_weights.pkl',\n",
       " '504P-1095_weights.pkl',\n",
       " '504P-1407_weights.pkl',\n",
       " '504S-0683_weights.pkl',\n",
       " '504S-1612_weights.pkl',\n",
       " '605F-0679_weights.pkl',\n",
       " '605F-1081_weights.pkl',\n",
       " '605N-0485_weights.pkl',\n",
       " '605N-0940_weights.pkl',\n",
       " '605P-0285_weights.pkl',\n",
       " '605P-0459_weights.pkl',\n",
       " '998N-0408_weights.pkl',\n",
       " '998N-0517_weights.pkl',\n",
       " 'B2_1520p31_weights.pkl',\n",
       " 'Geminga_weights.pkl',\n",
       " 'P88Y4655_weights.pkl',\n",
       " 'P88Y4661_weights.pkl',\n",
       " 'P88Y4744_weights.pkl',\n",
       " 'P88Y5469_weights.pkl',\n",
       " 'P88Y5732_weights.pkl',\n",
       " 'P88Y5839_weights.pkl',\n",
       " 'P88Y6341_weights.pkl',\n",
       " 'PSR_B1259-63_weights.pkl',\n",
       " 'PSR_J1302-6350_weights.pkl',\n",
       " 'PSR_J1909-3744_weights.pkl',\n",
       " 'PSR_J1913p1011_weights.pkl',\n",
       " 'PSR_J2022p3842_weights.pkl',\n",
       " 'PSR_J2032p4127_weights.pkl',\n",
       " 'S8008-1189_weights.pkl',\n",
       " 'S8008-2111_weights.pkl',\n",
       " 'S8008-2205_weights.pkl',\n",
       " 'S8008-2883_weights.pkl',\n",
       " 'X_Cyg_x-3_weights.pkl',\n",
       " 'geminga_weights.pkl']"
      ]
     },
     "execution_count": 6,
     "metadata": {},
     "output_type": "execute_result"
    }
   ],
   "source": [
    "wp = '/nfs/farm/g/glast/g/catalog/pointlike/skymodels/P8_10years/uw9011/weight_files'\n",
    "import pysftp as sftp\n",
    "srv = sftp.Connection(self.server, self.username)\n",
    "srv.chdir(wp)\n",
    "srv.listdir()"
   ]
  },
  {
   "cell_type": "code",
   "execution_count": null,
   "metadata": {},
   "outputs": [],
   "source": []
  }
 ],
 "metadata": {
  "kernelspec": {
   "display_name": "Python 3",
   "language": "python",
   "name": "python3"
  },
  "language_info": {
   "codemirror_mode": {
    "name": "ipython",
    "version": 3
   },
   "file_extension": ".py",
   "mimetype": "text/x-python",
   "name": "python",
   "nbconvert_exporter": "python",
   "pygments_lexer": "ipython3",
   "version": "3.7.6"
  }
 },
 "nbformat": 4,
 "nbformat_minor": 4
}
