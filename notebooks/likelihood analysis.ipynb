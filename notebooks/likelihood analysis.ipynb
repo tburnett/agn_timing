{
 "cells": [
  {
   "cell_type": "markdown",
   "metadata": {},
   "source": [
    "# Implement likelihood analysis using godot Cell classes\n"
   ]
  },
  {
   "cell_type": "code",
   "execution_count": 1,
   "metadata": {},
   "outputs": [
    {
     "data": {
      "text/plain": [
       "<module 'weight_analysis' from '/nfs/farm/g/glast/u/burnett/analysis/lat_timing/code/weight_analysis.py'>"
      ]
     },
     "execution_count": 1,
     "metadata": {},
     "output_type": "execute_result"
    }
   ],
   "source": [
    "%matplotlib inline\n",
    "from importlib import reload\n",
    "import weight_analysis\n",
    "reload(weight_analysis)"
   ]
  },
  {
   "cell_type": "code",
   "execution_count": 2,
   "metadata": {},
   "outputs": [],
   "source": [
    "agn = dict(source_name='3C 279', mjd_range=(54750, 54950), interval=5,weight_file='../data/3C279_weights.pkl')\n",
    "geminga = dict(source_name='Geminga', mjd_range=(54750, 54950), interval=1,weight_file='../data/geminga_weights.pkl')"
   ]
  },
  {
   "cell_type": "code",
   "execution_count": 3,
   "metadata": {},
   "outputs": [
    {
     "name": "stdout",
     "output_type": "stream",
     "text": [
      "Loading data from 8 months \n",
      "\tSelected 16935 photons within 5 deg of  (305.10,57.06)\n",
      "\tDates: 2008-10-11 01:27 - 2009-04-28 21:57\n",
      "\tMJD  : 54750.1          - 54949.9         \n",
      "Adding weights from file /nfs/farm/g/glast/u/burnett/analysis/lat_timing/data/3C279_weights.pkl\n",
      "\t170 / 16759 photon pixels are outside weight region\n",
      "\t4305 weights set to NaN\n"
     ]
    }
   ],
   "source": [
    "wa = weight_analysis.Main( **agn)"
   ]
  },
  {
   "cell_type": "code",
   "execution_count": 4,
   "metadata": {},
   "outputs": [
    {
     "name": "stdout",
     "output_type": "stream",
     "text": [
      "Binning: 38 intervals of 5 days fronm 54750.0 to 54950.0\n"
     ]
    }
   ],
   "source": [
    "bw = wa.binned_weights() "
   ]
  },
  {
   "cell_type": "code",
   "execution_count": 18,
   "metadata": {},
   "outputs": [
    {
     "data": {
      "text/plain": [
       "<class 'cell.Cell'>.Cell \n",
       "            exposure=2.760e-02,\n",
       "            588 weights, mean 0.34\n",
       "            times 54750.0 to 54755.3"
      ]
     },
     "execution_count": 18,
     "metadata": {},
     "output_type": "execute_result"
    }
   ],
   "source": [
    "import cell; reload(cell)\n",
    "c = bw[0]; c"
   ]
  },
  {
   "cell_type": "code",
   "execution_count": 11,
   "metadata": {},
   "outputs": [],
   "source": [
    "cll = cell.CellLogLikelihood(c)"
   ]
  },
  {
   "cell_type": "code",
   "execution_count": 7,
   "metadata": {},
   "outputs": [
    {
     "data": {
      "text/plain": [
       "[<matplotlib.lines.Line2D at 0x7f6cd4833cf8>]"
      ]
     },
     "execution_count": 7,
     "metadata": {},
     "output_type": "execute_result"
    },
    {
     "data": {
      "image/png": "[encoded data removed]",
      "text/plain": [
       "<Figure size 432x288 with 1 Axes>"
      ]
     },
     "metadata": {
      "needs_background": "light"
     },
     "output_type": "display_data"
    }
   ],
   "source": [
    "f = lambda x : cll.log_likelihood(x)\n",
    "xx = np.logspace(2,6)\n",
    "plt.loglog(xx, list(map(f, xx)), '-')"
   ]
  },
  {
   "cell_type": "code",
   "execution_count": 8,
   "metadata": {},
   "outputs": [
    {
     "data": {
      "text/plain": [
       "0.9998695685549961"
      ]
     },
     "execution_count": 8,
     "metadata": {},
     "output_type": "execute_result"
    }
   ],
   "source": [
    "cll.get_profile_flux()"
   ]
  },
  {
   "cell_type": "code",
   "execution_count": null,
   "metadata": {},
   "outputs": [],
   "source": []
  },
  {
   "cell_type": "code",
   "execution_count": null,
   "metadata": {},
   "outputs": [],
   "source": []
  }
 ],
 "metadata": {
  "kernelspec": {
   "display_name": "Python 3",
   "language": "python",
   "name": "python3"
  },
  "language_info": {
   "codemirror_mode": {
    "name": "ipython",
    "version": 3
   },
   "file_extension": ".py",
   "mimetype": "text/x-python",
   "name": "python",
   "nbconvert_exporter": "python",
   "pygments_lexer": "ipython3",
   "version": "3.7.3"
  }
 },
 "nbformat": 4,
 "nbformat_minor": 4
}
