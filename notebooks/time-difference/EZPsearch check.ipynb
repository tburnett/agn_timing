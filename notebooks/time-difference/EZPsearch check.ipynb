{
 "cells": [
  {
   "cell_type": "markdown",
   "metadata": {},
   "source": [
    "# Study TimeDiffs code, algorithm"
   ]
  },
  {
   "cell_type": "code",
   "execution_count": 1,
   "metadata": {},
   "outputs": [],
   "source": [
    "%matplotlib inline\n",
    "plt.rc('font', size=12)"
   ]
  },
  {
   "cell_type": "markdown",
   "metadata": {},
   "source": [
    "## Code copied brom EZPsearch"
   ]
  },
  {
   "cell_type": "code",
   "execution_count": 2,
   "metadata": {},
   "outputs": [],
   "source": [
    "def FFT_Size(window_size, max_freq):\n",
    "  \"\"\"FFT_Size()\"\"\"\n",
    "  \"\"\"The size of the FFT is twice the product of\"\"\"\n",
    "  \"\"\"the window size times the maximum frequency.\"\"\"\n",
    "  return 2 * int(np.floor(window_size * max_freq))+1 # needed if integer time diff\n",
    "\n",
    "def TimeDiffs(times, weights, window_size = 524288, max_freq = 64):\n",
    "  \"\"\"TimeDiffs()\"\"\"\n",
    "  \"\"\"Extract the binned series of time differences\"\"\"\n",
    "  \"\"\"The argument max_freq determines the bin size\"\"\"\n",
    "  \"\"\"as time_resol = 1 / (2 * max_freq) \"\"\"\n",
    "  \"\"\"This together with window_size fixes the size\"\"\"\n",
    "  \"\"\"of the returned array of time differences\"\"\"\n",
    "  # FFT sampling time\n",
    "  time_resol = .5 / max_freq\n",
    "  # directly bin the time differences\n",
    "  time_diffs = [0] * FFT_Size(window_size, max_freq)\n",
    "  for i1 in range(len(times) - 1):\n",
    "    t1 = times[i1]\n",
    "    for i2 in range(i1 + 1, len(times)):\n",
    "      t2 = times[i2]\n",
    "      # limit the size of the time differences\n",
    "      if t2 - t1 > window_size:\n",
    "        break\n",
    "      # determine the frequency bin in the array\n",
    "      freq_bin = int(np.floor((t2 - t1) / time_resol))\n",
    "      # combine the weights appropriately\n",
    "      time_diffs[freq_bin] += weights[i1] * weights[i2]\n",
    "  return time_diffs"
   ]
  },
  {
   "cell_type": "markdown",
   "metadata": {},
   "source": [
    "### Set up a simple data set, window and resolution parameters"
   ]
  },
  {
   "cell_type": "code",
   "execution_count": 3,
   "metadata": {},
   "outputs": [
    {
     "data": {
      "text/plain": [
       "(20000, 5.0)"
      ]
     },
     "execution_count": 3,
     "metadata": {},
     "output_type": "execute_result"
    }
   ],
   "source": [
    "times = np.arange(1e4)*100.\n",
    "weights = np.ones(len(times))\n",
    "window_size, max_freq = (1e5, 0.1)\n",
    "fft_size = 2 * int(np.floor(window_size * max_freq))\n",
    "time_resol = .5 / max_freq\n",
    "\n",
    "fft_size, time_resol"
   ]
  },
  {
   "cell_type": "markdown",
   "metadata": {},
   "source": [
    "### time TimeDiffs"
   ]
  },
  {
   "cell_type": "code",
   "execution_count": 4,
   "metadata": {},
   "outputs": [
    {
     "name": "stdout",
     "output_type": "stream",
     "text": [
      "CPU times: user 45.5 s, sys: 243 ms, total: 45.8 s\n",
      "Wall time: 45.9 s\n"
     ]
    }
   ],
   "source": [
    "%time ts1=TimeDiffs(times, np.ones(fft_size+1), window_size, max_freq)"
   ]
  },
  {
   "cell_type": "markdown",
   "metadata": {},
   "source": [
    "### time using numpy alternative"
   ]
  },
  {
   "cell_type": "code",
   "execution_count": 5,
   "metadata": {},
   "outputs": [
    {
     "name": "stdout",
     "output_type": "stream",
     "text": [
      "CPU times: user 572 ms, sys: 2 ms, total: 574 ms\n",
      "Wall time: 581 ms\n"
     ]
    }
   ],
   "source": [
    "%%time\n",
    "td = np.zeros(fft_size+1)\n",
    "for i1,t1 in enumerate(times):\n",
    "    b = np.searchsorted(times, ( t1+window_size))\n",
    "    t2 = times[i1+1:b]\n",
    "    fb = np.floor((t2-t1)/time_resol).astype(int)\n",
    "    td[fb] += weights[i1]*weights[i1+1:b]"
   ]
  },
  {
   "cell_type": "markdown",
   "metadata": {},
   "source": [
    "### compare\n",
    "Factor of 100!"
   ]
  },
  {
   "cell_type": "code",
   "execution_count": 6,
   "metadata": {},
   "outputs": [
    {
     "data": {
      "text/plain": [
       "(array([-9000.,     0.]), array([    1, 20000]))"
      ]
     },
     "execution_count": 6,
     "metadata": {},
     "output_type": "execute_result"
    }
   ],
   "source": [
    "np.unique(td-ts1, return_counts=True)"
   ]
  },
  {
   "cell_type": "markdown",
   "metadata": {},
   "source": [
    "<b>So the first bin is different. Look into that later"
   ]
  },
  {
   "cell_type": "code",
   "execution_count": null,
   "metadata": {},
   "outputs": [],
   "source": []
  }
 ],
 "metadata": {
  "kernelspec": {
   "display_name": "Python 3",
   "language": "python",
   "name": "python3"
  },
  "language_info": {
   "codemirror_mode": {
    "name": "ipython",
    "version": 3
   },
   "file_extension": ".py",
   "mimetype": "text/x-python",
   "name": "python",
   "nbconvert_exporter": "python",
   "pygments_lexer": "ipython3",
   "version": "3.7.3"
  }
 },
 "nbformat": 4,
 "nbformat_minor": 4
}
