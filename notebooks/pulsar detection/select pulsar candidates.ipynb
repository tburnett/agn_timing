{
 "cells": [
  {
   "cell_type": "markdown",
   "metadata": {},
   "source": [
    "# Select pulsar candidatess"
   ]
  },
  {
   "cell_type": "code",
   "execution_count": 1,
   "metadata": {},
   "outputs": [],
   "source": [
    "%matplotlib inline\n",
    "from importlib import reload\n",
    "import glob"
   ]
  },
  {
   "cell_type": "code",
   "execution_count": 2,
   "metadata": {},
   "outputs": [],
   "source": [
    "pointlike_dir='/nfs/farm/g/glast/g/catalog/pointlike'\n",
    "model_name='uw9011'\n",
    "model_dir=f'{pointlike_dir}/skymodels/P8_10years/{model_name}'\n",
    "f = f'{model_dir}/plots/pulsars/pulsar_candidates.csv'\n",
    "assert os.path.exists(f), f'File{f} not found'\n",
    "df = pd.read_csv(f, index_col=0);"
   ]
  },
  {
   "cell_type": "markdown",
   "metadata": {},
   "source": [
    "<b>Select entries above 15 deg, and not close to a LAT pulsar"
   ]
  },
  {
   "cell_type": "code",
   "execution_count": 3,
   "metadata": {},
   "outputs": [
    {
     "data": {
      "text/html": [
       "<div>\n",
       "<style scoped>\n",
       "    .dataframe tbody tr th:only-of-type {\n",
       "        vertical-align: middle;\n",
       "    }\n",
       "\n",
       "    .dataframe tbody tr th {\n",
       "        vertical-align: top;\n",
       "    }\n",
       "\n",
       "    .dataframe thead th {\n",
       "        text-align: right;\n",
       "    }\n",
       "</style>\n",
       "<table border=\"1\" class=\"dataframe\">\n",
       "  <thead>\n",
       "    <tr style=\"text-align: right;\">\n",
       "      <th></th>\n",
       "      <th>ra</th>\n",
       "      <th>dec</th>\n",
       "      <th>ts</th>\n",
       "      <th>glat</th>\n",
       "      <th>pindex</th>\n",
       "      <th>curvature</th>\n",
       "      <th>locqual</th>\n",
       "      <th>distance</th>\n",
       "      <th>otherid</th>\n",
       "      <th>otherts</th>\n",
       "    </tr>\n",
       "    <tr>\n",
       "      <th>name</th>\n",
       "      <th></th>\n",
       "      <th></th>\n",
       "      <th></th>\n",
       "      <th></th>\n",
       "      <th></th>\n",
       "      <th></th>\n",
       "      <th></th>\n",
       "      <th></th>\n",
       "      <th></th>\n",
       "      <th></th>\n",
       "    </tr>\n",
       "  </thead>\n",
       "  <tbody>\n",
       "    <tr>\n",
       "      <th>S8008-1189</th>\n",
       "      <td>200.100814</td>\n",
       "      <td>-45.099192</td>\n",
       "      <td>133.320078</td>\n",
       "      <td>17.471328</td>\n",
       "      <td>2.687155</td>\n",
       "      <td>0.392772</td>\n",
       "      <td>1.05</td>\n",
       "      <td>0.882114</td>\n",
       "      <td>504H-0194</td>\n",
       "      <td>35.709373</td>\n",
       "    </tr>\n",
       "    <tr>\n",
       "      <th>P88Y6341</th>\n",
       "      <td>349.658424</td>\n",
       "      <td>-38.464663</td>\n",
       "      <td>98.245240</td>\n",
       "      <td>-67.538137</td>\n",
       "      <td>2.109588</td>\n",
       "      <td>0.312556</td>\n",
       "      <td>0.32</td>\n",
       "      <td>2.510149</td>\n",
       "      <td>P88Y6367</td>\n",
       "      <td>968.372375</td>\n",
       "    </tr>\n",
       "    <tr>\n",
       "      <th>998N-0517</th>\n",
       "      <td>79.347135</td>\n",
       "      <td>-69.575736</td>\n",
       "      <td>95.651460</td>\n",
       "      <td>-33.450901</td>\n",
       "      <td>2.101448</td>\n",
       "      <td>0.263470</td>\n",
       "      <td>1.28</td>\n",
       "      <td>0.654994</td>\n",
       "      <td>P88Y1250</td>\n",
       "      <td>26.783363</td>\n",
       "    </tr>\n",
       "    <tr>\n",
       "      <th>P88Y5985</th>\n",
       "      <td>324.551780</td>\n",
       "      <td>-49.589217</td>\n",
       "      <td>78.230547</td>\n",
       "      <td>-46.965083</td>\n",
       "      <td>2.863538</td>\n",
       "      <td>0.513662</td>\n",
       "      <td>0.32</td>\n",
       "      <td>0.689456</td>\n",
       "      <td>P88Y5978</td>\n",
       "      <td>836.149719</td>\n",
       "    </tr>\n",
       "    <tr>\n",
       "      <th>504P-1095</th>\n",
       "      <td>287.784899</td>\n",
       "      <td>-32.361436</td>\n",
       "      <td>73.642471</td>\n",
       "      <td>-17.975764</td>\n",
       "      <td>2.376879</td>\n",
       "      <td>0.258716</td>\n",
       "      <td>0.54</td>\n",
       "      <td>1.413903</td>\n",
       "      <td>P88Y5332</td>\n",
       "      <td>55.389645</td>\n",
       "    </tr>\n",
       "  </tbody>\n",
       "</table>\n",
       "</div>"
      ],
      "text/plain": [
       "                    ra        dec          ts       glat    pindex  curvature  locqual  distance    otherid  \\\n",
       "name                                                                                                          \n",
       "S8008-1189  200.100814 -45.099192  133.320078  17.471328  2.687155   0.392772     1.05  0.882114  504H-0194   \n",
       "P88Y6341    349.658424 -38.464663   98.245240 -67.538137  2.109588   0.312556     0.32  2.510149   P88Y6367   \n",
       "998N-0517    79.347135 -69.575736   95.651460 -33.450901  2.101448   0.263470     1.28  0.654994   P88Y1250   \n",
       "P88Y5985    324.551780 -49.589217   78.230547 -46.965083  2.863538   0.513662     0.32  0.689456   P88Y5978   \n",
       "504P-1095   287.784899 -32.361436   73.642471 -17.975764  2.376879   0.258716     0.54  1.413903   P88Y5332   \n",
       "\n",
       "               otherts  \n",
       "name                    \n",
       "S8008-1189   35.709373  \n",
       "P88Y6341    968.372375  \n",
       "998N-0517    26.783363  \n",
       "P88Y5985    836.149719  \n",
       "504P-1095    55.389645  "
      ]
     },
     "execution_count": 3,
     "metadata": {},
     "output_type": "execute_result"
    }
   ],
   "source": [
    "dfa = df[(np.abs(df.glat)>15) & (df.otherid.apply(lambda s: ~s.startswith('PSR')))]; dfa.head()"
   ]
  },
  {
   "cell_type": "code",
   "execution_count": 4,
   "metadata": {},
   "outputs": [],
   "source": [
    "entry = dfa.iloc[0]\n",
    "sname, ra,dec = entry.name, entry.ra, entry.dec"
   ]
  },
  {
   "cell_type": "code",
   "execution_count": 5,
   "metadata": {},
   "outputs": [],
   "source": [
    "from astropy.coordinates import SkyCoord\n",
    "s = SkyCoord(ra,dec, unit='deg', frame='fk5').transform_to('galactic')\n",
    "l,b = s.l.value, s.b.value"
   ]
  },
  {
   "cell_type": "code",
   "execution_count": 6,
   "metadata": {},
   "outputs": [
    {
     "data": {
      "image/jpeg": "[encoded data removed]",
      "text/plain": [
       "<IPython.core.display.Image object>"
      ]
     },
     "execution_count": 6,
     "metadata": {
      "image/jpeg": {
       "height": 300,
       "width": 200
      }
     },
     "output_type": "execute_result"
    }
   ],
   "source": [
    "from IPython.display import Image\n",
    "Image(f'{model_dir}/sedfig/{sname}_sed_{model_name}.jpg', width=200, height=300)"
   ]
  },
  {
   "cell_type": "code",
   "execution_count": 7,
   "metadata": {},
   "outputs": [
    {
     "name": "stdout",
     "output_type": "stream",
     "text": [
      "Source S8008-1189 at: (l,b)=(308.284,17.471); ROI radius=5\n",
      "Loading data from 127 months \n",
      "\tSelected 357225 photons within 5 deg of  (308.28,17.47)\n",
      "\tDates: 2008-08-04 17:31 - 2018-08-01 19:41\n",
      "\tMJD  : 54682.7          - 58331.8         \n",
      "Default binning: 730 intervals of 5 days, in range (54683.0, 58332.0)\n",
      "Loaded 722 / 730 cells with exposure > 0.1 for light curve analysis\n",
      "<class 'light_curve.LightCurve'>, <class 'light_curve.PoissonRep'> fail for Index 0, LogLike light_curve.LogLike: time 54685.499, 0 weights,  exposure 0.75, S 0, B 0\n",
      "   unsupported operand type(s) for +: 'int' and 'list'\n",
      "Fits using representation poisson: 722 intervals\n"
     ]
    }
   ],
   "source": [
    "import main\n",
    "tdata = main.Main(name=sname, position=(l,b), interval=5, mjd_range=None,        \n",
    "                 weight_file=None) #'/nfs/farm/g/glast/g/catalog/pointlike/curr/uw9011/504N-0010_weights.pkl')\n",
    "lcp = tdata.light_curve( rep='poisson', min_exp=0.1) "
   ]
  },
  {
   "cell_type": "code",
   "execution_count": 17,
   "metadata": {},
   "outputs": [
    {
     "data": {
      "text/html": [
       "<div>\n",
       "<style scoped>\n",
       "    .dataframe tbody tr th:only-of-type {\n",
       "        vertical-align: middle;\n",
       "    }\n",
       "\n",
       "    .dataframe tbody tr th {\n",
       "        vertical-align: top;\n",
       "    }\n",
       "\n",
       "    .dataframe thead th {\n",
       "        text-align: right;\n",
       "    }\n",
       "</style>\n",
       "<table border=\"1\" class=\"dataframe\">\n",
       "  <thead>\n",
       "    <tr style=\"text-align: right;\">\n",
       "      <th></th>\n",
       "      <th>band</th>\n",
       "      <th>time</th>\n",
       "      <th>pixel</th>\n",
       "      <th>radius</th>\n",
       "    </tr>\n",
       "  </thead>\n",
       "  <tbody>\n",
       "    <tr>\n",
       "      <th>0</th>\n",
       "      <td>0</td>\n",
       "      <td>54682.730239</td>\n",
       "      <td>4842962</td>\n",
       "      <td>4.902746</td>\n",
       "    </tr>\n",
       "    <tr>\n",
       "      <th>1</th>\n",
       "      <td>4</td>\n",
       "      <td>54682.863961</td>\n",
       "      <td>4228528</td>\n",
       "      <td>1.703230</td>\n",
       "    </tr>\n",
       "    <tr>\n",
       "      <th>2</th>\n",
       "      <td>5</td>\n",
       "      <td>54682.864830</td>\n",
       "      <td>4756912</td>\n",
       "      <td>3.353552</td>\n",
       "    </tr>\n",
       "    <tr>\n",
       "      <th>3</th>\n",
       "      <td>1</td>\n",
       "      <td>54682.937470</td>\n",
       "      <td>4494714</td>\n",
       "      <td>4.914208</td>\n",
       "    </tr>\n",
       "    <tr>\n",
       "      <th>4</th>\n",
       "      <td>6</td>\n",
       "      <td>54682.938574</td>\n",
       "      <td>4187583</td>\n",
       "      <td>2.303699</td>\n",
       "    </tr>\n",
       "    <tr>\n",
       "      <th>...</th>\n",
       "      <td>...</td>\n",
       "      <td>...</td>\n",
       "      <td>...</td>\n",
       "      <td>...</td>\n",
       "    </tr>\n",
       "    <tr>\n",
       "      <th>357220</th>\n",
       "      <td>1</td>\n",
       "      <td>58331.814213</td>\n",
       "      <td>4695445</td>\n",
       "      <td>3.752509</td>\n",
       "    </tr>\n",
       "    <tr>\n",
       "      <th>357221</th>\n",
       "      <td>3</td>\n",
       "      <td>58331.814661</td>\n",
       "      <td>4298168</td>\n",
       "      <td>1.078699</td>\n",
       "    </tr>\n",
       "    <tr>\n",
       "      <th>357222</th>\n",
       "      <td>0</td>\n",
       "      <td>58331.815327</td>\n",
       "      <td>4289966</td>\n",
       "      <td>1.188066</td>\n",
       "    </tr>\n",
       "    <tr>\n",
       "      <th>357223</th>\n",
       "      <td>9</td>\n",
       "      <td>58331.816589</td>\n",
       "      <td>4523494</td>\n",
       "      <td>4.428297</td>\n",
       "    </tr>\n",
       "    <tr>\n",
       "      <th>357224</th>\n",
       "      <td>1</td>\n",
       "      <td>58331.820362</td>\n",
       "      <td>4523426</td>\n",
       "      <td>1.832054</td>\n",
       "    </tr>\n",
       "  </tbody>\n",
       "</table>\n",
       "<p>351757 rows × 4 columns</p>\n",
       "</div>"
      ],
      "text/plain": [
       "        band          time    pixel    radius\n",
       "0          0  54682.730239  4842962  4.902746\n",
       "1          4  54682.863961  4228528  1.703230\n",
       "2          5  54682.864830  4756912  3.353552\n",
       "3          1  54682.937470  4494714  4.914208\n",
       "4          6  54682.938574  4187583  2.303699\n",
       "...      ...           ...      ...       ...\n",
       "357220     1  58331.814213  4695445  3.752509\n",
       "357221     3  58331.814661  4298168  1.078699\n",
       "357222     0  58331.815327  4289966  1.188066\n",
       "357223     9  58331.816589  4523494  4.428297\n",
       "357224     1  58331.820362  4523426  1.832054\n",
       "\n",
       "[351757 rows x 4 columns]"
      ]
     },
     "execution_count": 17,
     "metadata": {},
     "output_type": "execute_result"
    }
   ],
   "source": [
    "d=tdata.data\n",
    "d.photon_data"
   ]
  },
  {
   "cell_type": "code",
   "execution_count": null,
   "metadata": {},
   "outputs": [],
   "source": []
  }
 ],
 "metadata": {
  "kernelspec": {
   "display_name": "Python 3",
   "language": "python",
   "name": "python3"
  },
  "language_info": {
   "codemirror_mode": {
    "name": "ipython",
    "version": 3
   },
   "file_extension": ".py",
   "mimetype": "text/x-python",
   "name": "python",
   "nbconvert_exporter": "python",
   "pygments_lexer": "ipython3",
   "version": "3.8.0"
  }
 },
 "nbformat": 4,
 "nbformat_minor": 4
}
