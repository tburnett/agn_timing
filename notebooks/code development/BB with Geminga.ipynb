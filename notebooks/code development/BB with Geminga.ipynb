{
 "cells": [
  {
   "cell_type": "markdown",
   "metadata": {},
   "source": [
    "# Bayesian Blocks example with Geminga"
   ]
  },
  {
   "cell_type": "code",
   "execution_count": 1,
   "metadata": {},
   "outputs": [],
   "source": [
    "%matplotlib inline\n",
    "from importlib import reload\n",
    "from  main import Main\n",
    "import warnings\n",
    "warnings.filterwarnings('error')"
   ]
  },
  {
   "cell_type": "markdown",
   "metadata": {},
   "source": [
    "### Load timed data and weights for Geminga\n",
    "Create 1-day binned summary, and light curve from it with Poisson fits"
   ]
  },
  {
   "cell_type": "code",
   "execution_count": null,
   "metadata": {
    "collapsed": false,
    "jupyter": {
     "outputs_hidden": false
    }
   },
   "outputs": [
    {
     "name": "stdout",
     "output_type": "stream",
     "text": [
      "Source Geminga at: (l,b)=(195.134,4.266); ROI radius=5\n",
      "Loading data from 127 months "
     ]
    }
   ],
   "source": [
    "cdata = Main('Geminga',  interval=1, mjd_range=None,        \n",
    "                 weight_file='/nfs/farm/g/glast/g/catalog/pointlike/curr/uw9011/geminga_weights.pkl')\n",
    "lcp = cdata.light_curve( rep='poisson', min_exp=0.1) "
   ]
  },
  {
   "cell_type": "code",
   "execution_count": null,
   "metadata": {},
   "outputs": [],
   "source": [
    "fig, (ax1, ax2, ax3) = plt.subplots(3,1, figsize=(15,9))\n",
    "lcp.flux_plot(ax=ax1, yscale='log', title='Geminga, daily');\n",
    "lcp.flux_plot(ax=ax2, yscale='log', xlim=(56400, 56800), title=' ')\n",
    "lcp.flux_plot(ax=ax3, yscale='log', xlim=(57000, 57500), title=' ');"
   ]
  },
  {
   "cell_type": "markdown",
   "metadata": {},
   "source": [
    "### Make Bayesian Block partitions into a light curve, here using counts only!\n"
   ]
  },
  {
   "cell_type": "code",
   "execution_count": null,
   "metadata": {},
   "outputs": [],
   "source": [
    "%time bb = cdata.bayesian_blocks()"
   ]
  },
  {
   "cell_type": "markdown",
   "metadata": {},
   "source": [
    "### Now make a light curve with the BB partitions, and plot that"
   ]
  },
  {
   "cell_type": "code",
   "execution_count": null,
   "metadata": {},
   "outputs": [],
   "source": [
    "fig, (ax1, ax2, ax3) = plt.subplots(3,1, figsize=(15,9))\n",
    "bb.flux_plot(ax=ax1, yscale='log',  title='Geminga, BB');\n",
    "bb.flux_plot(ax=ax2, yscale='log',  xlim=(56400, 56800), title=' ')\n",
    "bb.flux_plot(ax=ax3, yscale='log',  xlim=(57000, 57500), title=' ');"
   ]
  },
  {
   "cell_type": "code",
   "execution_count": null,
   "metadata": {},
   "outputs": [],
   "source": []
  }
 ],
 "metadata": {
  "kernelspec": {
   "display_name": "Python 3",
   "language": "python",
   "name": "python3"
  },
  "language_info": {
   "codemirror_mode": {
    "name": "ipython",
    "version": 3
   },
   "file_extension": ".py",
   "mimetype": "text/x-python",
   "name": "python",
   "nbconvert_exporter": "python",
   "pygments_lexer": "ipython3",
   "version": "3.7.3"
  }
 },
 "nbformat": 4,
 "nbformat_minor": 4
}
