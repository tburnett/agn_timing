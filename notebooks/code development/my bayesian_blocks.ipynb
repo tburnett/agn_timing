{
 "cells": [
  {
   "cell_type": "markdown",
   "metadata": {},
   "source": [
    "# Implement astropy Bayesian Blocks"
   ]
  },
  {
   "cell_type": "code",
   "execution_count": 1,
   "metadata": {},
   "outputs": [],
   "source": [
    "%matplotlib inline\n",
    "from importlib import reload\n",
    "import main, light_curve\n",
    "import corner\n",
    "import warnings\n",
    "warnings.filterwarnings('error')\n",
    "from astropy.stats.bayesian_blocks import *\n",
    "from astropy.stats import histogram"
   ]
  },
  {
   "cell_type": "code",
   "execution_count": null,
   "metadata": {
    "collapsed": false,
    "jupyter": {
     "outputs_hidden": false
    }
   },
   "outputs": [
    {
     "name": "stdout",
     "output_type": "stream",
     "text": [
      "Source 3C 279 at: (l,b)=(305.104,57.062); ROI radius=5\n"
     ]
    }
   ],
   "source": [
    "cdata = main.Main('3C 279',  interval=1, mjd_range=None,        \n",
    "                 weight_file='/nfs/farm/g/glast/g/catalog/pointlike/curr/uw9011/3C279_weights.pkl')"
   ]
  },
  {
   "cell_type": "code",
   "execution_count": null,
   "metadata": {},
   "outputs": [],
   "source": [
    "reload(light_curve)\n",
    "bb = light_curve.BayesianBlocks(cdata)\n",
    "\n",
    "bw =  bb.partition()"
   ]
  },
  {
   "cell_type": "code",
   "execution_count": null,
   "metadata": {},
   "outputs": [],
   "source": [
    "lc =bb.light_curve(bw)"
   ]
  },
  {
   "cell_type": "code",
   "execution_count": null,
   "metadata": {},
   "outputs": [],
   "source": [
    "fig, (ax1, ax2, ax3) = plt.subplots(3,1, figsize=(15,12))\n",
    "lc.flux_plot(ax=ax1, yscale='log', ylim=(0.1,None), title='3C 279, BB');\n",
    "lc.flux_plot(ax=ax2, yscale='log', ylim=(0.1,None), xlim=(56400, 56800), title=' ')\n",
    "lc.flux_plot(ax=ax3, yscale='log', ylim=(0.1,None), xlim=(55400, 55800), title=' ');"
   ]
  },
  {
   "cell_type": "code",
   "execution_count": null,
   "metadata": {},
   "outputs": [],
   "source": []
  }
 ],
 "metadata": {
  "kernelspec": {
   "display_name": "Python 3",
   "language": "python",
   "name": "python3"
  },
  "language_info": {
   "codemirror_mode": {
    "name": "ipython",
    "version": 3
   },
   "file_extension": ".py",
   "mimetype": "text/x-python",
   "name": "python",
   "nbconvert_exporter": "python",
   "pygments_lexer": "ipython3",
   "version": "3.7.3"
  }
 },
 "nbformat": 4,
 "nbformat_minor": 4
}
