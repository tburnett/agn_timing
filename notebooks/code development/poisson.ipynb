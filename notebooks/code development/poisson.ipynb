{
 "cells": [
  {
   "cell_type": "markdown",
   "metadata": {},
   "source": [
    "# Test the poisson fitting code"
   ]
  },
  {
   "cell_type": "code",
   "execution_count": 1,
   "metadata": {},
   "outputs": [
    {
     "data": {
      "text/plain": [
       "<module 'poisson' from '/nfs/farm/g/glast/u/burnett/analysis/lat_timing/code/poisson.py'>"
      ]
     },
     "execution_count": 1,
     "metadata": {},
     "output_type": "execute_result"
    }
   ],
   "source": [
    "%matplotlib inline\n",
    "import corner\n",
    "from importlib import reload\n",
    "import poisson\n",
    "reload(poisson)"
   ]
  },
  {
   "cell_type": "code",
   "execution_count": 8,
   "metadata": {},
   "outputs": [
    {
     "name": "stdout",
     "output_type": "stream",
     "text": [
      "[-0.985  0.998  4.953]\n"
     ]
    }
   ],
   "source": [
    "pf = poisson.PoissonFitter((poisson.Poisson([-1, 1., 5.])))\n",
    "print(np.array(pf.fit()).round(3))"
   ]
  },
  {
   "cell_type": "code",
   "execution_count": 10,
   "metadata": {},
   "outputs": [
    {
     "name": "stdout",
     "output_type": "stream",
     "text": [
      "[50.     1.    10.008]\n"
     ]
    }
   ],
   "source": [
    "pf2 = poisson.PoissonFitter( poisson.Poisson([50., 1., 10.]))\n",
    "print(np.array(pf2.fit()).round(3))"
   ]
  }
 ],
 "metadata": {
  "kernelspec": {
   "display_name": "Python 3",
   "language": "python",
   "name": "python3"
  },
  "language_info": {
   "codemirror_mode": {
    "name": "ipython",
    "version": 3
   },
   "file_extension": ".py",
   "mimetype": "text/x-python",
   "name": "python",
   "nbconvert_exporter": "python",
   "pygments_lexer": "ipython3",
   "version": "3.7.3"
  }
 },
 "nbformat": 4,
 "nbformat_minor": 4
}
