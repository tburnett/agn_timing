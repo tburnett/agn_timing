{
 "cells": [
  {
   "cell_type": "markdown",
   "metadata": {},
   "source": [
    "# Develop and test an interface to core"
   ]
  },
  {
   "cell_type": "code",
   "execution_count": 1,
   "metadata": {},
   "outputs": [],
   "source": [
    "%matplotlib inline\n",
    "from importlib import reload\n",
    "import main, light_curve, core\n",
    "import warnings\n",
    "warnings.filterwarnings('error')"
   ]
  },
  {
   "cell_type": "code",
   "execution_count": 2,
   "metadata": {},
   "outputs": [
    {
     "name": "stdout",
     "output_type": "stream",
     "text": [
      "Source Geminga at: (l,b)=(195.134,4.266); ROI radius=5\n",
      "Loading data from 11 months \n",
      "\tSelected 140566 photons within 5 deg of  (195.13,4.27)\n",
      "\tDates: 2008-08-05 04:16 - 2009-06-18 00:25\n",
      "\tMJD  : 54683.2          - 55000.0         \n",
      "Adding weights from file /nfs/farm/g/glast/g/catalog/pointlike/skymodels/P8_10years/uw9011/geminga_weights.pkl\n",
      "\t28 / 139486 photon pixels are outside weight region\n",
      "\t22058 weights set to NaN\n",
      "Binning: 317 intervals of 1 days from 54683.00 to 55000.00\n"
     ]
    }
   ],
   "source": [
    "fn='/nfs/farm/g/glast/g/catalog/pointlike/skymodels/P8_10years/uw9011/geminga_weights.pkl'\n",
    "bw= main.Main('Geminga', interval=1, mjd_range=(0, 55000),  weight_file=fn, verbose=1).binned_weights()"
   ]
  },
  {
   "cell_type": "code",
   "execution_count": 12,
   "metadata": {},
   "outputs": [],
   "source": [
    "import core;  reload(core)\n",
    "\n",
    "t=58000\n",
    "cell_pars=dict(tstart=t,tstop=t,exposure=1,photon_times=[],photon_weights=[],\n",
    "            source_to_background_ratio=0.5)\n",
    "\n",
    "cells=[]\n",
    "for c in bw:\n",
    "\n",
    "    t, exp, w, S, B = [c[x] for x in 't exp w S B'.split()]\n",
    "    if exp==0:\n",
    "        continue\n",
    "    cell_pars.update(tstart=t-0.5, tstop=t+0.5, photon_weights=w, \n",
    "                     exposure=S, #???\n",
    "                     source_to_background_ratio=S/B)\n",
    "    assert len(w)>0\n",
    "    cells.append(core.Cell(**cell_pars))"
   ]
  },
  {
   "cell_type": "code",
   "execution_count": 13,
   "metadata": {},
   "outputs": [
    {
     "ename": "RuntimeWarning",
     "evalue": "invalid value encountered in log",
     "output_type": "error",
     "traceback": [
      "\u001b[0;31m---------------------------------------------------------------------------\u001b[0m",
      "\u001b[0;31mRuntimeWarning\u001b[0m                            Traceback (most recent call last)",
      "\u001b[0;32m<ipython-input-13-1e7d160a4631>\u001b[0m in \u001b[0;36m<module>\u001b[0;34m\u001b[0m\n\u001b[0;32m----> 1\u001b[0;31m \u001b[0mlc\u001b[0m \u001b[0;34m=\u001b[0m \u001b[0mcore\u001b[0m\u001b[0;34m.\u001b[0m\u001b[0mCellsLogLikelihood\u001b[0m\u001b[0;34m(\u001b[0m\u001b[0mcells\u001b[0m\u001b[0;34m)\u001b[0m\u001b[0;34m\u001b[0m\u001b[0;34m\u001b[0m\u001b[0m\n\u001b[0m",
      "\u001b[0;32m/nfs/farm/g/glast/u/burnett/analysis/lat_timing/code/core.py\u001b[0m in \u001b[0;36m__init__\u001b[0;34m(self, cells, profile_background)\u001b[0m\n\u001b[1;32m    749\u001b[0m         \u001b[0;32mfor\u001b[0m \u001b[0micll\u001b[0m\u001b[0;34m,\u001b[0m\u001b[0mcll\u001b[0m \u001b[0;32min\u001b[0m \u001b[0menumerate\u001b[0m\u001b[0;34m(\u001b[0m\u001b[0mself\u001b[0m\u001b[0;34m.\u001b[0m\u001b[0mclls\u001b[0m\u001b[0;34m)\u001b[0m\u001b[0;34m:\u001b[0m\u001b[0;34m\u001b[0m\u001b[0;34m\u001b[0m\u001b[0m\n\u001b[1;32m    750\u001b[0m             self._dom[icll],self._cod[icll] = cll.get_logpdf(\n\u001b[0;32m--> 751\u001b[0;31m                     npt=npt,dlogl=30,profile_background=profile_background)\n\u001b[0m\u001b[1;32m    752\u001b[0m         \u001b[0mself\u001b[0m\u001b[0;34m.\u001b[0m\u001b[0mprofile_background\u001b[0m \u001b[0;34m=\u001b[0m \u001b[0mprofile_background\u001b[0m\u001b[0;34m\u001b[0m\u001b[0;34m\u001b[0m\u001b[0m\n\u001b[1;32m    753\u001b[0m \u001b[0;34m\u001b[0m\u001b[0m\n",
      "\u001b[0;32m/nfs/farm/g/glast/u/burnett/analysis/lat_timing/code/core.py\u001b[0m in \u001b[0;36mget_logpdf\u001b[0;34m(self, aopt, dlogl, npt, include_zero, profile_background)\u001b[0m\n\u001b[1;32m    584\u001b[0m             \u001b[0;32mfor\u001b[0m \u001b[0mi\u001b[0m \u001b[0;32min\u001b[0m \u001b[0mrange\u001b[0m\u001b[0;34m(\u001b[0m\u001b[0;36m5\u001b[0m\u001b[0;34m)\u001b[0m\u001b[0;34m:\u001b[0m\u001b[0;34m\u001b[0m\u001b[0;34m\u001b[0m\u001b[0m\n\u001b[1;32m    585\u001b[0m                 \u001b[0mt\u001b[0m\u001b[0;34m[\u001b[0m\u001b[0;34m:\u001b[0m\u001b[0;34m]\u001b[0m \u001b[0;34m=\u001b[0m \u001b[0mamin\u001b[0m\u001b[0;34m*\u001b[0m\u001b[0mwe\u001b[0m\u001b[0;34m+\u001b[0m\u001b[0miw\u001b[0m\u001b[0;34m\u001b[0m\u001b[0;34m\u001b[0m\u001b[0m\n\u001b[0;32m--> 586\u001b[0;31m                 \u001b[0mf0\u001b[0m \u001b[0;34m=\u001b[0m \u001b[0mnp\u001b[0m\u001b[0;34m.\u001b[0m\u001b[0mlog\u001b[0m\u001b[0;34m(\u001b[0m\u001b[0mt\u001b[0m\u001b[0;34m)\u001b[0m\u001b[0;34m.\u001b[0m\u001b[0msum\u001b[0m\u001b[0;34m(\u001b[0m\u001b[0;34m)\u001b[0m\u001b[0;34m-\u001b[0m\u001b[0mamin\u001b[0m\u001b[0;34m*\u001b[0m\u001b[0mS\u001b[0m\u001b[0;34m+\u001b[0m\u001b[0mdlogl\u001b[0m\u001b[0;34m-\u001b[0m\u001b[0mllmax\u001b[0m\u001b[0;34m\u001b[0m\u001b[0;34m\u001b[0m\u001b[0m\n\u001b[0m\u001b[1;32m    587\u001b[0m                 \u001b[0mf1\u001b[0m \u001b[0;34m=\u001b[0m \u001b[0mnp\u001b[0m\u001b[0;34m.\u001b[0m\u001b[0msum\u001b[0m\u001b[0;34m(\u001b[0m\u001b[0mwe\u001b[0m\u001b[0;34m/\u001b[0m\u001b[0mt\u001b[0m\u001b[0;34m)\u001b[0m\u001b[0;34m-\u001b[0m\u001b[0mS\u001b[0m\u001b[0;34m\u001b[0m\u001b[0;34m\u001b[0m\u001b[0m\n\u001b[1;32m    588\u001b[0m                 \u001b[0mamin\u001b[0m \u001b[0;34m=\u001b[0m \u001b[0mamin\u001b[0m \u001b[0;34m-\u001b[0m \u001b[0mf0\u001b[0m\u001b[0;34m/\u001b[0m\u001b[0mf1\u001b[0m\u001b[0;34m\u001b[0m\u001b[0;34m\u001b[0m\u001b[0m\n",
      "\u001b[0;31mRuntimeWarning\u001b[0m: invalid value encountered in log"
     ]
    }
   ],
   "source": [
    "lc = core.CellsLogLikelihood(cells)"
   ]
  },
  {
   "cell_type": "code",
   "execution_count": null,
   "metadata": {},
   "outputs": [],
   "source": []
  }
 ],
 "metadata": {
  "kernelspec": {
   "display_name": "Python 3",
   "language": "python",
   "name": "python3"
  },
  "language_info": {
   "codemirror_mode": {
    "name": "ipython",
    "version": 3
   },
   "file_extension": ".py",
   "mimetype": "text/x-python",
   "name": "python",
   "nbconvert_exporter": "python",
   "pygments_lexer": "ipython3",
   "version": "3.7.3"
  }
 },
 "nbformat": 4,
 "nbformat_minor": 4
}
