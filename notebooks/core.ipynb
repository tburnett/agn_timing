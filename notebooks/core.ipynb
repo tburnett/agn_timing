{
 "cells": [
  {
   "cell_type": "markdown",
   "metadata": {},
   "source": [
    "# Develop and test an interface to core"
   ]
  },
  {
   "cell_type": "code",
   "execution_count": 1,
   "metadata": {},
   "outputs": [],
   "source": [
    "%matplotlib inline\n",
    "from importlib import reload\n",
    "import main, light_curve, core\n",
    "import warnings\n",
    "warnings.filterwarnings('error')"
   ]
  },
  {
   "cell_type": "code",
   "execution_count": 2,
   "metadata": {},
   "outputs": [
    {
     "name": "stdout",
     "output_type": "stream",
     "text": [
      "Source Geminga at: (l,b)=(195.134,4.266); ROI radius=5\n",
      "Loading data from 11 months \n",
      "\tSelected 140566 photons within 5 deg of  (195.13,4.27)\n",
      "\tDates: 2008-08-05 04:16 - 2009-06-18 00:25\n",
      "\tMJD  : 54683.2          - 55000.0         \n",
      "Adding weights from file /nfs/farm/g/glast/g/catalog/pointlike/skymodels/P8_10years/uw9011/geminga_weights.pkl\n",
      "\t28 / 139486 photon pixels are outside weight region\n",
      "\t22058 weights set to NaN\n",
      "Binning: 317 intervals of 1 days from 54683.00 to 55000.00\n"
     ]
    }
   ],
   "source": [
    "fn='/nfs/farm/g/glast/g/catalog/pointlike/skymodels/P8_10years/uw9011/geminga_weights.pkl'\n",
    "bw= main.Main('Geminga', interval=1, mjd_range=(0, 55000),  weight_file=fn, verbose=1).binned_weights()"
   ]
  },
  {
   "cell_type": "code",
   "execution_count": 8,
   "metadata": {},
   "outputs": [
    {
     "ename": "NameError",
     "evalue": "name 't' is not defined",
     "output_type": "error",
     "traceback": [
      "\u001b[0;31m---------------------------------------------------------------------------\u001b[0m",
      "\u001b[0;31mNameError\u001b[0m                                 Traceback (most recent call last)",
      "\u001b[0;32m<ipython-input-8-96cea2c6cf3e>\u001b[0m in \u001b[0;36m<module>\u001b[0;34m\u001b[0m\n\u001b[1;32m      1\u001b[0m \u001b[0;32mimport\u001b[0m \u001b[0mcore\u001b[0m\u001b[0;34m;\u001b[0m  \u001b[0mreload\u001b[0m\u001b[0;34m(\u001b[0m\u001b[0mcore\u001b[0m\u001b[0;34m)\u001b[0m\u001b[0;34m\u001b[0m\u001b[0;34m\u001b[0m\u001b[0m\n\u001b[1;32m      2\u001b[0m \u001b[0;34m\u001b[0m\u001b[0m\n\u001b[0;32m----> 3\u001b[0;31m cell_pars=dict(tstart=t,tstop=t,exposure=1,photon_times=[],photon_weights=[],\n\u001b[0m\u001b[1;32m      4\u001b[0m             source_to_background_ratio=SonB)\n\u001b[1;32m      5\u001b[0m \u001b[0;34m\u001b[0m\u001b[0m\n",
      "\u001b[0;31mNameError\u001b[0m: name 't' is not defined"
     ]
    }
   ],
   "source": [
    "import core;  reload(core)\n",
    "\n",
    "t=58000\n",
    "cell_pars=dict(tstart=t,tstop=t,exposure=1,photon_times=[],photon_weights=[],\n",
    "            source_to_background_ratio=SonB)\n",
    "\n",
    "cells=[]\n",
    "for c in bw:\n",
    "    print( c)\n",
    "    t, exp, w, S, B = [c[x] for x in 't exp w S B'.spit()]\n",
    "    print(t, exp, S,B)\n",
    "    if exp==0:\n",
    "        continue\n",
    "    cell_pars.update(tstart=t-0.5, tstop=t+0.5, photon_weights=w, \n",
    "                     exposure=S, #???\n",
    "                     source_to_background_ratio=S/B)\n",
    "    assert len(w)>0\n",
    "    cells.append(core.Cell(**cell_pars))"
   ]
  },
  {
   "cell_type": "code",
   "execution_count": null,
   "metadata": {},
   "outputs": [],
   "source": [
    "lc = core.CellsLogLikelihood(cells)"
   ]
  },
  {
   "cell_type": "code",
   "execution_count": 4,
   "metadata": {},
   "outputs": [
    {
     "data": {
      "text/plain": [
       "<function bin(number, /)>"
      ]
     },
     "execution_count": 4,
     "metadata": {},
     "output_type": "execute_result"
    }
   ],
   "source": [
    "bin"
   ]
  }
 ],
 "metadata": {
  "kernelspec": {
   "display_name": "Python 3",
   "language": "python",
   "name": "python3"
  },
  "language_info": {
   "codemirror_mode": {
    "name": "ipython",
    "version": 3
   },
   "file_extension": ".py",
   "mimetype": "text/x-python",
   "name": "python",
   "nbconvert_exporter": "python",
   "pygments_lexer": "ipython3",
   "version": "3.7.3"
  }
 },
 "nbformat": 4,
 "nbformat_minor": 4
}
