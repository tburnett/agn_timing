{
 "cells": [
  {
   "cell_type": "markdown",
   "metadata": {},
   "source": [
    "## Run the docstring conversion demo"
   ]
  },
  {
   "cell_type": "code",
   "execution_count": 1,
   "metadata": {},
   "outputs": [
    {
     "data": {
      "text/plain": [
       "<module 'docstring' from '/nfs/farm/g/glast/u/burnett/analysis/lat_timing/code/docstring.py'>"
      ]
     },
     "execution_count": 1,
     "metadata": {},
     "output_type": "execute_result"
    }
   ],
   "source": [
    "import docstring; \n",
    "import importlib\n",
    "importlib.reload(docstring)"
   ]
  },
  {
   "cell_type": "code",
   "execution_count": 2,
   "metadata": {},
   "outputs": [],
   "source": [
    "#docstring.doc_display?"
   ]
  },
  {
   "cell_type": "code",
   "execution_count": 3,
   "metadata": {},
   "outputs": [],
   "source": [
    "%%capture out\n",
    "docstring.md_display('## Demonstrate docstring formatting')\n",
    "locs = docstring.demo_function()\n",
    "docstring.md_display('---\\nFinished!')"
   ]
  },
  {
   "cell_type": "code",
   "execution_count": 4,
   "metadata": {},
   "outputs": [
    {
     "data": {
      "text/markdown": [
       "## Demonstrate docstring formatting\n"
      ],
      "text/plain": [
       "<IPython.core.display.Markdown object>"
      ]
     },
     "metadata": {},
     "output_type": "display_data"
    },
    {
     "data": {
      "text/markdown": [
       "### Function generating figures and table output\n",
       "\n",
       "Note the value of the arg `xlim = (0, 10)`\n",
       "\n",
       "* Display head of the dataframe\n",
       "<div>\n",
       "<style scoped>\n",
       "    .dataframe tbody tr th:only-of-type {\n",
       "        vertical-align: middle;\n",
       "    }\n",
       "\n",
       "    .dataframe tbody tr th {\n",
       "        vertical-align: top;\n",
       "    }\n",
       "\n",
       "    .dataframe thead th {\n",
       "        text-align: right;\n",
       "    }\n",
       "</style>\n",
       "<table border=\"1\" class=\"dataframe\">\n",
       "  <thead>\n",
       "    <tr style=\"text-align: right;\">\n",
       "      <th></th>\n",
       "      <th>x</th>\n",
       "      <th>xx</th>\n",
       "      <th>sqrtx</th>\n",
       "    </tr>\n",
       "  </thead>\n",
       "  <tbody>\n",
       "    <tr>\n",
       "      <th>0</th>\n",
       "      <td>0.000</td>\n",
       "      <td>0.000</td>\n",
       "      <td>0.000</td>\n",
       "    </tr>\n",
       "    <tr>\n",
       "      <th>1</th>\n",
       "      <td>0.204</td>\n",
       "      <td>0.042</td>\n",
       "      <td>0.452</td>\n",
       "    </tr>\n",
       "    <tr>\n",
       "      <th>2</th>\n",
       "      <td>0.408</td>\n",
       "      <td>0.167</td>\n",
       "      <td>0.639</td>\n",
       "    </tr>\n",
       "    <tr>\n",
       "      <th>3</th>\n",
       "      <td>0.612</td>\n",
       "      <td>0.375</td>\n",
       "      <td>0.782</td>\n",
       "    </tr>\n",
       "    <tr>\n",
       "      <th>4</th>\n",
       "      <td>0.816</td>\n",
       "      <td>0.666</td>\n",
       "      <td>0.904</td>\n",
       "    </tr>\n",
       "  </tbody>\n",
       "</table>\n",
       "</div>\n",
       "\n",
       "* Figure 1\n",
       "Describe analysis for this figure here.\n",
       "<figure> <img src=\"figs/demo_function/fig_1.png\" alt=\"Figure 1\"> <figcaption>Example caption for Fig. 1, which\n",
       "            shows $x^2$ vs. $x$.    \n",
       "            <p>A second caption line.</figcaption></figure>\n",
       "Interpret results for Fig. 1.  \n",
       "\n",
       "* Figure 2\n",
       "A second figure!\n",
       "<figure> <img src=\"figs/demo_function/fig_2.png\" alt=\"Figure 2\"> <figcaption></figcaption></figure>\n",
       "This figure is a sqrt\n",
       "\n",
       "---\n",
       "Check value of the kwarg *test* passed to the formatter: it is \"99.00\".\n",
       "\n",
       "---\n",
       "Insert some latex to test that it passes unrecognized entries on.\n",
       "    \\begin{align*}\n",
       "    \\sin(\\theta)^2 + \\cos(\\theta)^2 =1\n",
       "    \\end{align*}\n",
       "An inline formula: $\\frac{1}{2}=0.5$\n"
      ],
      "text/plain": [
       "<IPython.core.display.Markdown object>"
      ]
     },
     "metadata": {},
     "output_type": "display_data"
    },
    {
     "data": {
      "text/markdown": [
       "---\n",
       "Finished!\n"
      ],
      "text/plain": [
       "<IPython.core.display.Markdown object>"
      ]
     },
     "metadata": {},
     "output_type": "display_data"
    }
   ],
   "source": [
    "out.show()"
   ]
  }
 ],
 "metadata": {
  "kernelspec": {
   "display_name": "Python 3",
   "language": "python",
   "name": "python3"
  },
  "language_info": {
   "codemirror_mode": {
    "name": "ipython",
    "version": 3
   },
   "file_extension": ".py",
   "mimetype": "text/x-python",
   "name": "python",
   "nbconvert_exporter": "python",
   "pygments_lexer": "ipython3",
   "version": "3.8.0"
  }
 },
 "nbformat": 4,
 "nbformat_minor": 4
}
